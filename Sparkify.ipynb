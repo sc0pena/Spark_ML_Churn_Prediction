{
 "cells": [
  {
   "cell_type": "markdown",
   "metadata": {},
   "source": [
    "# Sparkify Project Workspace\n",
    "This workspace contains a tiny subset (128MB) of the full dataset available (12GB). Feel free to use this workspace to build your project, or to explore a smaller subset with Spark before deploying your cluster on the cloud. Instructions for setting up your Spark cluster is included in the last lesson of the Extracurricular Spark Course content.\n",
    "\n",
    "You can follow the steps below to guide your data analysis and model building portion of this project."
   ]
  },
  {
   "cell_type": "code",
   "execution_count": 1,
   "metadata": {},
   "outputs": [],
   "source": [
    "# import libraries\n",
    "import math\n",
    "from pyspark.sql import SparkSession\n",
    "from pyspark.sql.functions import udf\n",
    "from pyspark.sql.types import StringType, IntegerType\n",
    "from pyspark.sql.functions import desc, asc, sum, avg, col, concat, desc, explode, lit, min, max, split, udf,isnan, when, \\\n",
    "count, col\n",
    "\n",
    "\n",
    "from pyspark.ml import Pipeline\n",
    "from pyspark.ml.classification import LogisticRegression, RandomForestClassifier, GBTClassifier\n",
    "from pyspark.ml.evaluation import MulticlassClassificationEvaluator, BinaryClassificationEvaluator\n",
    "from pyspark.ml.feature import CountVectorizer, IDF, Normalizer, PCA, RegexTokenizer, StandardScaler, StopWordsRemover, \\\n",
    "StringIndexer, VectorAssembler, Imputer, OneHotEncoder, MinMaxScaler\n",
    "from pyspark.ml.regression import LinearRegression\n",
    "from pyspark.ml.tuning import CrossValidator, ParamGridBuilder\n",
    "\n",
    "\n",
    "import datetime\n",
    "\n",
    "import seaborn as sns\n",
    "import matplotlib.pyplot as plt\n",
    "\n",
    "import numpy as np\n",
    "import pandas as pd\n",
    "#from sklearn.preprocessing import Imputer\n",
    "#from sklearn import impute\n",
    "#NOTE!!! FOR THE NEXT LINE TO RUN... MUST \n",
    "#pip install scikit-learn==0.23.2, then restart kernal!!!!!!!\n",
    "#https://knowledge.udacity.com/questions/662415\n",
    "#from sklearn.impute import SimpleImputer, KNNImputer\n",
    "\n",
    "#cant get fancyimpute to work!!! \n",
    "#from sklearn.preprocessing.imputation import SimpleImputer\n",
    "# importing the KNN from fancyimpute library\n",
    "#from fancyimpute import KNN\n",
    "\n",
    "%matplotlib inline\n",
    "import matplotlib.pyplot as plt"
   ]
  },
  {
   "cell_type": "code",
   "execution_count": 2,
   "metadata": {},
   "outputs": [],
   "source": [
    "# create a Spark session\n",
    "spark = SparkSession \\\n",
    "    .builder \\\n",
    "    .appName(\"Wrangling Data\") \\\n",
    "    .getOrCreate()"
   ]
  },
  {
   "cell_type": "markdown",
   "metadata": {},
   "source": [
    "# 2. Data Understanding"
   ]
  },
  {
   "cell_type": "markdown",
   "metadata": {},
   "source": [
    "##  Data Exploration"
   ]
  },
  {
   "cell_type": "code",
   "execution_count": 3,
   "metadata": {},
   "outputs": [],
   "source": [
    "path = \"mini_sparkify_event_data.json\"\n",
    "user_log = spark.read.json(path)"
   ]
  },
  {
   "cell_type": "code",
   "execution_count": 4,
   "metadata": {},
   "outputs": [
    {
     "data": {
      "text/plain": [
       "[Row(artist='Martha Tilston', auth='Logged In', firstName='Colin', gender='M', itemInSession=50, lastName='Freeman', length=277.89016, level='paid', location='Bakersfield, CA', method='PUT', page='NextSong', registration=1538173362000, sessionId=29, song='Rockpools', status=200, ts=1538352117000, userAgent='Mozilla/5.0 (Windows NT 6.1; WOW64; rv:31.0) Gecko/20100101 Firefox/31.0', userId='30'),\n",
       " Row(artist='Five Iron Frenzy', auth='Logged In', firstName='Micah', gender='M', itemInSession=79, lastName='Long', length=236.09424, level='free', location='Boston-Cambridge-Newton, MA-NH', method='PUT', page='NextSong', registration=1538331630000, sessionId=8, song='Canada', status=200, ts=1538352180000, userAgent='\"Mozilla/5.0 (Windows NT 6.1; WOW64) AppleWebKit/537.36 (KHTML, like Gecko) Chrome/37.0.2062.103 Safari/537.36\"', userId='9'),\n",
       " Row(artist='Adam Lambert', auth='Logged In', firstName='Colin', gender='M', itemInSession=51, lastName='Freeman', length=282.8273, level='paid', location='Bakersfield, CA', method='PUT', page='NextSong', registration=1538173362000, sessionId=29, song='Time For Miracles', status=200, ts=1538352394000, userAgent='Mozilla/5.0 (Windows NT 6.1; WOW64; rv:31.0) Gecko/20100101 Firefox/31.0', userId='30'),\n",
       " Row(artist='Enigma', auth='Logged In', firstName='Micah', gender='M', itemInSession=80, lastName='Long', length=262.71302, level='free', location='Boston-Cambridge-Newton, MA-NH', method='PUT', page='NextSong', registration=1538331630000, sessionId=8, song='Knocking On Forbidden Doors', status=200, ts=1538352416000, userAgent='\"Mozilla/5.0 (Windows NT 6.1; WOW64) AppleWebKit/537.36 (KHTML, like Gecko) Chrome/37.0.2062.103 Safari/537.36\"', userId='9'),\n",
       " Row(artist='Daft Punk', auth='Logged In', firstName='Colin', gender='M', itemInSession=52, lastName='Freeman', length=223.60771, level='paid', location='Bakersfield, CA', method='PUT', page='NextSong', registration=1538173362000, sessionId=29, song='Harder Better Faster Stronger', status=200, ts=1538352676000, userAgent='Mozilla/5.0 (Windows NT 6.1; WOW64; rv:31.0) Gecko/20100101 Firefox/31.0', userId='30')]"
      ]
     },
     "execution_count": 4,
     "metadata": {},
     "output_type": "execute_result"
    }
   ],
   "source": [
    "user_log.head(5)"
   ]
  },
  {
   "cell_type": "code",
   "execution_count": 5,
   "metadata": {},
   "outputs": [
    {
     "name": "stdout",
     "output_type": "stream",
     "text": [
      "+------+---------+---------+------+-------------+--------+------+-----+--------------------+------+-----+-------------+---------+----+------+-------------+--------------------+------+\n",
      "|artist|     auth|firstName|gender|itemInSession|lastName|length|level|            location|method| page| registration|sessionId|song|status|           ts|           userAgent|userId|\n",
      "+------+---------+---------+------+-------------+--------+------+-----+--------------------+------+-----+-------------+---------+----+------+-------------+--------------------+------+\n",
      "|  null|Logged In|     Kael|     M|           48|   Baker|  null| paid|Kingsport-Bristol...|   GET|Error|1533102330000|      249|null|   404|1538393848000|\"Mozilla/5.0 (Mac...|   131|\n",
      "|  null|Logged In|   Lucero|     F|           10|    Reed|  null| free|Louisville/Jeffer...|   GET|Error|1536642109000|      139|null|   404|1538407927000|\"Mozilla/5.0 (Win...|   140|\n",
      "|  null|Logged In|Sebastian|     M|           38|    Wang|  null| free|         Jackson, MS|   GET|Error|1538050164000|       52|null|   404|1538425401000|\"Mozilla/5.0 (Mac...|    53|\n",
      "|  null|Logged In|    Micah|     M|           38|    Long|  null| free|Boston-Cambridge-...|   GET|Error|1538331630000|      262|null|   404|1538489751000|\"Mozilla/5.0 (Win...|     9|\n",
      "|  null|Logged In|   Payton|     F|           19|Campbell|  null| free|Los Angeles-Long ...|   GET|Error|1529027541000|      354|null|   404|1538515176000|\"Mozilla/5.0 (Win...|    39|\n",
      "+------+---------+---------+------+-------------+--------+------+-----+--------------------+------+-----+-------------+---------+----+------+-------------+--------------------+------+\n",
      "only showing top 5 rows\n",
      "\n"
     ]
    }
   ],
   "source": [
    "user_log.filter(user_log.page == 'Error').show(n=5)"
   ]
  },
  {
   "cell_type": "code",
   "execution_count": null,
   "metadata": {},
   "outputs": [],
   "source": []
  },
  {
   "cell_type": "code",
   "execution_count": 8,
   "metadata": {
    "scrolled": true
   },
   "outputs": [
    {
     "name": "stdout",
     "output_type": "stream",
     "text": [
      "root\n",
      " |-- artist: string (nullable = true)\n",
      " |-- auth: string (nullable = true)\n",
      " |-- firstName: string (nullable = true)\n",
      " |-- gender: string (nullable = true)\n",
      " |-- itemInSession: long (nullable = true)\n",
      " |-- lastName: string (nullable = true)\n",
      " |-- length: double (nullable = true)\n",
      " |-- level: string (nullable = true)\n",
      " |-- location: string (nullable = true)\n",
      " |-- method: string (nullable = true)\n",
      " |-- page: string (nullable = true)\n",
      " |-- registration: long (nullable = true)\n",
      " |-- sessionId: long (nullable = true)\n",
      " |-- song: string (nullable = true)\n",
      " |-- status: long (nullable = true)\n",
      " |-- ts: long (nullable = true)\n",
      " |-- userAgent: string (nullable = true)\n",
      " |-- userId: string (nullable = true)\n",
      "\n"
     ]
    }
   ],
   "source": [
    "user_log.printSchema()"
   ]
  },
  {
   "cell_type": "code",
   "execution_count": 9,
   "metadata": {},
   "outputs": [
    {
     "data": {
      "text/plain": [
       "286500"
      ]
     },
     "execution_count": 9,
     "metadata": {},
     "output_type": "execute_result"
    }
   ],
   "source": [
    "user_log.count()"
   ]
  },
  {
   "cell_type": "code",
   "execution_count": 10,
   "metadata": {},
   "outputs": [
    {
     "name": "stdout",
     "output_type": "stream",
     "text": [
      "+------+----+---------+------+-------------+--------+------+-----+--------+------+----+------------+---------+-----+------+---+---------+------+\n",
      "|artist|auth|firstName|gender|itemInSession|lastName|length|level|location|method|page|registration|sessionId| song|status| ts|userAgent|userId|\n",
      "+------+----+---------+------+-------------+--------+------+-----+--------+------+----+------------+---------+-----+------+---+---------+------+\n",
      "| 58392|   0|     8346|  8346|            0|    8346| 58392|    0|    8346|     0|   0|        8346|        0|58392|     0|  0|     8346|     0|\n",
      "+------+----+---------+------+-------------+--------+------+-----+--------+------+----+------------+---------+-----+------+---+---------+------+\n",
      "\n"
     ]
    }
   ],
   "source": [
    "#identify count of nulls, all columns\n",
    "#user_log_valid = user_log.dropna(how = \"any\", subset = [\"userId\", \"sessionId\"])\n",
    "#https://sparkbyexamples.com/spark/spark-filter-rows-with-null-values/\n",
    "#https://stackoverflow.com/questions/44627386/how-to-find-count-of-null-and-nan-values-for-each-column-in-a-pyspark-dataframe\n",
    "\n",
    "#looks like artist, length, song is null in 58,392 recs (~20% of the data set)\n",
    "#first name, last name, gender, location, registration 8346 recs (~3% of the data set)\n",
    "#hames don't seem as important to use with predictive modeling of who will cancel. Will drop from features\n",
    "#Location, gender, registration is important. Though 3% loss\n",
    "#Thought about imputing with nearest neighbor (link below). Will stick with mode\n",
    "#https://scikit-learn.org/stable/modules/generated/sklearn.impute.KNNImputer.html\n",
    "#https://www.kaggle.com/hafsaezzahraouy/dealing-with-missing-data-with-pyspark\n",
    "#https://www.geeksforgeeks.org/missing-data-imputation-with-fancyimpute/\n",
    "\n",
    "user_log.select([count(when(isnan(c) | col(c).isNull(), c)).alias(c) for c in user_log.columns]).show()"
   ]
  },
  {
   "cell_type": "code",
   "execution_count": 11,
   "metadata": {},
   "outputs": [
    {
     "data": {
      "text/plain": [
       "226"
      ]
     },
     "execution_count": 11,
     "metadata": {},
     "output_type": "execute_result"
    }
   ],
   "source": [
    "#distinct values for colums with nulls: \n",
    "#artist characters, 17656 distinct\n",
    "#gender chars, 3 values, M/F/Null\n",
    "#length is numeric with 14866 distinct values; \n",
    "#registration is numeric with 226 distinct values\n",
    "#song is chars with 58481 distinct values\n",
    "#userAgent is chars with 57 distinct values\n",
    "\n",
    "#One Hot Encoding with artist and song will create too many dimensions...we will not do that with those columns.\n",
    "\n",
    "user_log.select('registration').distinct().count()"
   ]
  },
  {
   "cell_type": "code",
   "execution_count": 23,
   "metadata": {},
   "outputs": [
    {
     "data": {
      "text/plain": [
       "17656"
      ]
     },
     "execution_count": 23,
     "metadata": {},
     "output_type": "execute_result"
    }
   ],
   "source": [
    "user_log.select(\"artist\").distinct().count()"
   ]
  },
  {
   "cell_type": "code",
   "execution_count": 36,
   "metadata": {},
   "outputs": [
    {
     "name": "stdout",
     "output_type": "stream",
     "text": [
      "+------+\n",
      "|gender|\n",
      "+------+\n",
      "|     F|\n",
      "|  null|\n",
      "|     M|\n",
      "+------+\n",
      "\n"
     ]
    }
   ],
   "source": [
    "user_log.select(\"gender\").distinct().show()"
   ]
  },
  {
   "cell_type": "code",
   "execution_count": 28,
   "metadata": {},
   "outputs": [
    {
     "data": {
      "text/plain": [
       "14866"
      ]
     },
     "execution_count": 28,
     "metadata": {},
     "output_type": "execute_result"
    }
   ],
   "source": [
    "user_log.select(\"length\").distinct().count()"
   ]
  },
  {
   "cell_type": "code",
   "execution_count": 37,
   "metadata": {},
   "outputs": [
    {
     "name": "stdout",
     "output_type": "stream",
     "text": [
      "+------+\n",
      "|method|\n",
      "+------+\n",
      "|   PUT|\n",
      "|   GET|\n",
      "+------+\n",
      "\n"
     ]
    }
   ],
   "source": [
    "user_log.select(\"method\").distinct().show()"
   ]
  },
  {
   "cell_type": "code",
   "execution_count": null,
   "metadata": {},
   "outputs": [],
   "source": []
  },
  {
   "cell_type": "code",
   "execution_count": 29,
   "metadata": {},
   "outputs": [
    {
     "data": {
      "text/plain": [
       "58481"
      ]
     },
     "execution_count": 29,
     "metadata": {},
     "output_type": "execute_result"
    }
   ],
   "source": [
    "user_log.select(\"song\").distinct().count()"
   ]
  },
  {
   "cell_type": "code",
   "execution_count": 30,
   "metadata": {},
   "outputs": [
    {
     "data": {
      "text/plain": [
       "57"
      ]
     },
     "execution_count": 30,
     "metadata": {},
     "output_type": "execute_result"
    }
   ],
   "source": [
    "user_log.select(\"userAgent\").distinct().count()"
   ]
  },
  {
   "cell_type": "code",
   "execution_count": 43,
   "metadata": {},
   "outputs": [
    {
     "name": "stdout",
     "output_type": "stream",
     "text": [
      "+----------+\n",
      "|      auth|\n",
      "+----------+\n",
      "|Logged Out|\n",
      "| Cancelled|\n",
      "|     Guest|\n",
      "| Logged In|\n",
      "+----------+\n",
      "\n"
     ]
    }
   ],
   "source": [
    "user_log.select(\"auth\").distinct().show()"
   ]
  },
  {
   "cell_type": "code",
   "execution_count": 38,
   "metadata": {},
   "outputs": [
    {
     "data": {
      "text/plain": [
       "1322"
      ]
     },
     "execution_count": 38,
     "metadata": {},
     "output_type": "execute_result"
    }
   ],
   "source": [
    "user_log.select('itemInSession').distinct().count()"
   ]
  },
  {
   "cell_type": "code",
   "execution_count": 39,
   "metadata": {},
   "outputs": [
    {
     "data": {
      "text/plain": [
       "2354"
      ]
     },
     "execution_count": 39,
     "metadata": {},
     "output_type": "execute_result"
    }
   ],
   "source": [
    "user_log.select('sessionId').distinct().count()"
   ]
  },
  {
   "cell_type": "code",
   "execution_count": 35,
   "metadata": {},
   "outputs": [
    {
     "name": "stdout",
     "output_type": "stream",
     "text": [
      "+------+\n",
      "|status|\n",
      "+------+\n",
      "|   307|\n",
      "|   404|\n",
      "|   200|\n",
      "+------+\n",
      "\n"
     ]
    }
   ],
   "source": [
    "user_log.select('status').distinct().show()"
   ]
  },
  {
   "cell_type": "code",
   "execution_count": 41,
   "metadata": {},
   "outputs": [
    {
     "data": {
      "text/plain": [
       "115"
      ]
     },
     "execution_count": 41,
     "metadata": {},
     "output_type": "execute_result"
    }
   ],
   "source": [
    "#there are only 115 distinct locations. This should not be too much of an issue for dimensionality \n",
    "user_log.select('location').distinct().count()"
   ]
  },
  {
   "cell_type": "code",
   "execution_count": 12,
   "metadata": {},
   "outputs": [
    {
     "data": {
      "text/plain": [
       "21"
      ]
     },
     "execution_count": 12,
     "metadata": {},
     "output_type": "execute_result"
    }
   ],
   "source": [
    "#lets see what types of page actions occur when artist, song, length are null\n",
    "#checked all 3, all 3 show 21 of 22 distinct page actions. \n",
    "\n",
    "#tricky decision here, but to effecively use OHE without curse of dimensionality with artist/song char cols will drop these 2,\n",
    "#along with customer first and last name  song length \n",
    "user_log.select(\"page\").distinct().filter(col(\"length\").isNull()).count()"
   ]
  },
  {
   "cell_type": "code",
   "execution_count": 13,
   "metadata": {},
   "outputs": [
    {
     "data": {
      "text/plain": [
       "22"
      ]
     },
     "execution_count": 13,
     "metadata": {},
     "output_type": "execute_result"
    }
   ],
   "source": [
    "user_log.select(\"page\").distinct().count()"
   ]
  },
  {
   "cell_type": "code",
   "execution_count": 41,
   "metadata": {},
   "outputs": [
    {
     "data": {
      "text/plain": [
       "[Row(page='Cancel'),\n",
       " Row(page='Submit Downgrade'),\n",
       " Row(page='Thumbs Down'),\n",
       " Row(page='Home'),\n",
       " Row(page='Downgrade'),\n",
       " Row(page='Roll Advert'),\n",
       " Row(page='Logout'),\n",
       " Row(page='Save Settings'),\n",
       " Row(page='Cancellation Confirmation'),\n",
       " Row(page='About'),\n",
       " Row(page='Submit Registration'),\n",
       " Row(page='Settings'),\n",
       " Row(page='Login'),\n",
       " Row(page='Register'),\n",
       " Row(page='Add to Playlist'),\n",
       " Row(page='Add Friend'),\n",
       " Row(page='NextSong'),\n",
       " Row(page='Thumbs Up'),\n",
       " Row(page='Help'),\n",
       " Row(page='Upgrade'),\n",
       " Row(page='Error'),\n",
       " Row(page='Submit Upgrade')]"
      ]
     },
     "execution_count": 41,
     "metadata": {},
     "output_type": "execute_result"
    }
   ],
   "source": [
    "user_log.select(\"page\").distinct().collect()"
   ]
  },
  {
   "cell_type": "code",
   "execution_count": 11,
   "metadata": {},
   "outputs": [],
   "source": [
    "#drop first and last name, artist, song, length\n",
    "#df = user_log.drop(*('firstName','lastName', 'artist', 'song'))"
   ]
  },
  {
   "cell_type": "markdown",
   "metadata": {},
   "source": [
    "## Data Preparation (pre-analysis)"
   ]
  },
  {
   "cell_type": "code",
   "execution_count": 4,
   "metadata": {
    "scrolled": true
   },
   "outputs": [],
   "source": [
    "#DATA PREP PRE-ANALYSIS\n",
    "#will keep columns that are pertinant and will not cause too much dimensionality when modeling:\n",
    "\n",
    "#char columns to keep: gender, level, page, location\n",
    "#numeric to keep: length, status, ts (will extract day of week and hour)\n",
    "\n",
    "df2 = user_log.select(\"userid\",\"gender\",\"level\",\"page\",\"location\",\"length\",\"status\",\"ts\",\"sessionId\")"
   ]
  },
  {
   "cell_type": "code",
   "execution_count": 160,
   "metadata": {},
   "outputs": [
    {
     "name": "stdout",
     "output_type": "stream",
     "text": [
      "+------+------+-----+--------+--------------------+---------+------+-------------+---------+\n",
      "|userid|gender|level|    page|            location|   length|status|           ts|sessionId|\n",
      "+------+------+-----+--------+--------------------+---------+------+-------------+---------+\n",
      "|    30|     M| paid|NextSong|     Bakersfield, CA|277.89016|   200|1538352117000|       29|\n",
      "|     9|     M| free|NextSong|Boston-Cambridge-...|236.09424|   200|1538352180000|        8|\n",
      "|    30|     M| paid|NextSong|     Bakersfield, CA| 282.8273|   200|1538352394000|       29|\n",
      "|     9|     M| free|NextSong|Boston-Cambridge-...|262.71302|   200|1538352416000|        8|\n",
      "|    30|     M| paid|NextSong|     Bakersfield, CA|223.60771|   200|1538352676000|       29|\n",
      "+------+------+-----+--------+--------------------+---------+------+-------------+---------+\n",
      "only showing top 5 rows\n",
      "\n"
     ]
    }
   ],
   "source": [
    "df2.show(n=5)"
   ]
  },
  {
   "cell_type": "code",
   "execution_count": 5,
   "metadata": {},
   "outputs": [],
   "source": [
    "#extract day of week and hour from ts\n",
    "from pyspark.sql.functions import *\n",
    "#Convert timestamp to unix timestamp\n",
    "\n",
    "#https://stackoverflow.com/questions/45977449/convert-timestamp-to-date-in-spark-dataframe\n",
    "get_timestamp = udf(lambda x: datetime.datetime.fromtimestamp(x / 1000.0).strftime(\"%Y-%m-%d %H:%M:%S\"))\n",
    "df2 = df2.withColumn(\"datetime\", get_timestamp(df2.ts))\n",
    "\n",
    "#https://stackoverflow.com/questions/45977449/convert-timestamp-to-date-in-spark-dataframe\n",
    "#df2 = df.withColumn(\"date\", to_date(\"datetime\"))\n",
    "df2 = df2.withColumn(\"date\",to_date(\"datetime\"))\n",
    "#https://www.datasciencemadesimple.com/get-week-number-from-date-in-pyspark/#:~:text=Extract%20day%20of%20week%20from%20date%20in%20words,%E2%80%9CEEEE%E2%80%9D%20which%20returns%20the%20week%20name%20in%20character.\n",
    "#1 = Sunday, 2 = Monday ...7=saturday\n",
    "df2 = df2.withColumn(\"day_of_week\",dayofweek(\"date\"))\n",
    "\n",
    "import pyspark.sql.functions as F\n",
    "from pyspark.sql.types import IntegerType\n",
    "\n",
    "df2 = df2.withColumn(\"hour\", hour(col(\"datetime\")))\n",
    "#https://www.datasciencemadesimple.com/get-day-of-month-day-of-year-day-of-week-from-date-in-pyspark/\n",
    "df2 = df2.withColumn('day_of_month',dayofmonth(df2.date))\n",
    "\n"
   ]
  },
  {
   "cell_type": "code",
   "execution_count": 6,
   "metadata": {},
   "outputs": [
    {
     "name": "stdout",
     "output_type": "stream",
     "text": [
      "+------+------+-----+--------+--------------------+---------+------+-------------+---------+-------------------+----------+-----------+----+------------+\n",
      "|userid|gender|level|    page|            location|   length|status|           ts|sessionId|           datetime|      date|day_of_week|hour|day_of_month|\n",
      "+------+------+-----+--------+--------------------+---------+------+-------------+---------+-------------------+----------+-----------+----+------------+\n",
      "|    30|     M| paid|NextSong|     Bakersfield, CA|277.89016|   200|1538352117000|       29|2018-10-01 00:01:57|2018-10-01|          2|   0|           1|\n",
      "|     9|     M| free|NextSong|Boston-Cambridge-...|236.09424|   200|1538352180000|        8|2018-10-01 00:03:00|2018-10-01|          2|   0|           1|\n",
      "|    30|     M| paid|NextSong|     Bakersfield, CA| 282.8273|   200|1538352394000|       29|2018-10-01 00:06:34|2018-10-01|          2|   0|           1|\n",
      "|     9|     M| free|NextSong|Boston-Cambridge-...|262.71302|   200|1538352416000|        8|2018-10-01 00:06:56|2018-10-01|          2|   0|           1|\n",
      "+------+------+-----+--------+--------------------+---------+------+-------------+---------+-------------------+----------+-----------+----+------------+\n",
      "only showing top 4 rows\n",
      "\n"
     ]
    }
   ],
   "source": [
    "df2.show(n=4)"
   ]
  },
  {
   "cell_type": "code",
   "execution_count": 6,
   "metadata": {},
   "outputs": [
    {
     "name": "stdout",
     "output_type": "stream",
     "text": [
      "+------+------+-----+--------+--------------------+---------+------+-------------+---------+-------------------+----------+-----------+----+------------+-----+\n",
      "|userid|gender|level|    page|            location|   length|status|           ts|sessionId|           datetime|      date|day_of_week|hour|day_of_month|State|\n",
      "+------+------+-----+--------+--------------------+---------+------+-------------+---------+-------------------+----------+-----------+----+------------+-----+\n",
      "|    30|     M| paid|NextSong|     Bakersfield, CA|277.89016|   200|1538352117000|       29|2018-10-01 00:01:57|2018-10-01|          2|   0|           1|   CA|\n",
      "|     9|     M| free|NextSong|Boston-Cambridge-...|236.09424|   200|1538352180000|        8|2018-10-01 00:03:00|2018-10-01|          2|   0|           1|   NH|\n",
      "|    30|     M| paid|NextSong|     Bakersfield, CA| 282.8273|   200|1538352394000|       29|2018-10-01 00:06:34|2018-10-01|          2|   0|           1|   CA|\n",
      "+------+------+-----+--------+--------------------+---------+------+-------------+---------+-------------------+----------+-----------+----+------------+-----+\n",
      "only showing top 3 rows\n",
      "\n"
     ]
    }
   ],
   "source": [
    "#extract state from location\n",
    "#https://stackoverflow.com/questions/59238807/how-to-use-substrin-and-instr-together-pyspark\n",
    "#https://sparkbyexamples.com/pyspark/pyspark-substring-from-a-column\n",
    "#https://www.datasciencemadesimple.com/extract-first-n-and-last-n-character-in-pyspark/\n",
    "#split city and state\n",
    "df2 = df2.withColumn(\"State\", df2.location.substr(-2,2))\n",
    "df2.show(n=3)"
   ]
  },
  {
   "cell_type": "code",
   "execution_count": 60,
   "metadata": {},
   "outputs": [
    {
     "data": {
      "text/plain": [
       "286500"
      ]
     },
     "execution_count": 60,
     "metadata": {},
     "output_type": "execute_result"
    }
   ],
   "source": [
    "df2.count()"
   ]
  },
  {
   "cell_type": "code",
   "execution_count": null,
   "metadata": {},
   "outputs": [],
   "source": [
    "#identify rows having  page 'Cancellation Confirmation' put into 1 dataset\n",
    "#identify rows 'not' having page 'Cancellation Confirmation' put into 1 dataset\n",
    "\n",
    "#join these 2 datasets to identify behaviurs of customers who cancelled vs customers who are active"
   ]
  },
  {
   "cell_type": "markdown",
   "metadata": {},
   "source": [
    "##  Data Visualization"
   ]
  },
  {
   "cell_type": "code",
   "execution_count": 9,
   "metadata": {},
   "outputs": [
    {
     "data": {
      "text/plain": [
       "228108"
      ]
     },
     "execution_count": 9,
     "metadata": {},
     "output_type": "execute_result"
    }
   ],
   "source": [
    "#drop nulls for analysis (lost ~20% of original set...ok for pre-analysis)\n",
    "df_analysis = df2.na.drop()\n",
    "df_analysis.count()"
   ]
  },
  {
   "cell_type": "code",
   "execution_count": 10,
   "metadata": {},
   "outputs": [],
   "source": [
    "#spark df to pandas df for charts\n",
    "df_an_pd = df_analysis.toPandas()"
   ]
  },
  {
   "cell_type": "code",
   "execution_count": 28,
   "metadata": {},
   "outputs": [
    {
     "data": {
      "text/plain": [
       "(<matplotlib.axes._subplots.AxesSubplot at 0x7fdb61781c88>,\n",
       " count    228108.000000\n",
       " mean        249.117182\n",
       " std          99.235179\n",
       " min           0.783220\n",
       " 25%         199.888530\n",
       " 50%         234.500770\n",
       " 75%         277.158730\n",
       " max        3024.665670\n",
       " Name: length, dtype: float64)"
      ]
     },
     "execution_count": 28,
     "metadata": {},
     "output_type": "execute_result"
    },
    {
     "data": {
      "image/png": "[encoded data removed]",
      "text/plain": [
       "<matplotlib.figure.Figure at 0x7fdb620103c8>"
      ]
     },
     "metadata": {
      "needs_background": "light"
     },
     "output_type": "display_data"
    }
   ],
   "source": [
    "#distribution of length of action\n",
    "#average length is 249, \n",
    "df_an_pd_len = df_an_pd.length.copy()\n",
    "sns.distplot(df_an_pd_len), df_an_pd_len.describe()"
   ]
  },
  {
   "cell_type": "code",
   "execution_count": 62,
   "metadata": {},
   "outputs": [
    {
     "name": "stdout",
     "output_type": "stream",
     "text": [
      "+-----+---------+\n",
      "|State|dist_tots|\n",
      "+-----+---------+\n",
      "|   CA|       33|\n",
      "|   PA|       18|\n",
      "|   TX|       16|\n",
      "|   FL|       14|\n",
      "|   WI|       10|\n",
      "|   NC|        9|\n",
      "|   IL|        9|\n",
      "|   SC|        8|\n",
      "|   MD|        7|\n",
      "|   NH|        7|\n",
      "|   AZ|        7|\n",
      "|   CT|        7|\n",
      "|   IN|        6|\n",
      "|   WV|        6|\n",
      "|   WA|        6|\n",
      "|   AL|        6|\n",
      "|   NY|        5|\n",
      "|   MI|        5|\n",
      "|   GA|        4|\n",
      "|   CO|        4|\n",
      "+-----+---------+\n",
      "only showing top 20 rows\n",
      "\n"
     ]
    }
   ],
   "source": [
    "#count of users by location (state)\n",
    "#users by gender\n",
    "df_analysis.groupBy(\"State\").agg(countDistinct(df_analysis.userid).alias(\"dist_tots\")).sort(col(\"dist_tots\").desc()).show()"
   ]
  },
  {
   "cell_type": "code",
   "execution_count": 30,
   "metadata": {},
   "outputs": [
    {
     "data": {
      "image/png": "[encoded data removed]",
      "text/plain": [
       "<matplotlib.figure.Figure at 0x7fdb61291e10>"
      ]
     },
     "metadata": {
      "needs_background": "light"
     },
     "output_type": "display_data"
    }
   ],
   "source": [
    "#count of users by location (city and state)\n",
    "df_an_pd_loc = df_an_pd.groupby(['location'],as_index=False).size().reset_index(name='Totals')\n",
    "df_an_pd_loc.groupby('location')['Totals'].sum().sort_values(ascending=False).plot(kind='bar',figsize=(25,10));"
   ]
  },
  {
   "cell_type": "code",
   "execution_count": 12,
   "metadata": {},
   "outputs": [
    {
     "name": "stdout",
     "output_type": "stream",
     "text": [
      "+------+---------+\n",
      "|gender|dist_tots|\n",
      "+------+---------+\n",
      "|     F|      104|\n",
      "|     M|      121|\n",
      "+------+---------+\n",
      "\n"
     ]
    }
   ],
   "source": [
    "#users by gender\n",
    "df_analysis.groupBy(\"gender\").agg(countDistinct(df_analysis.userid).alias(\"dist_tots\")).show()"
   ]
  },
  {
   "cell_type": "code",
   "execution_count": 11,
   "metadata": {},
   "outputs": [
    {
     "data": {
      "image/png": "[encoded data removed]",
      "text/plain": [
       "<matplotlib.figure.Figure at 0x7f3c0d429940>"
      ]
     },
     "metadata": {
      "needs_background": "light"
     },
     "output_type": "display_data"
    }
   ],
   "source": [
    "#Totals by Hour: most PM users\n",
    "df_an_pd_hr = df_an_pd.groupby(['hour'],as_index=False).size().reset_index(name='Totals')\n",
    "df_an_pd_hr.groupby('hour')['Totals'].sum().sort_values(ascending=False).plot(kind='bar',figsize=(17,12), color=['blue']);"
   ]
  },
  {
   "cell_type": "code",
   "execution_count": 37,
   "metadata": {},
   "outputs": [
    {
     "data": {
      "image/png": "[encoded data removed]",
      "text/plain": [
       "<matplotlib.figure.Figure at 0x7f66dc47a7f0>"
      ]
     },
     "metadata": {
      "needs_background": "light"
     },
     "output_type": "display_data"
    }
   ],
   "source": [
    "#Totals by day of week- most heavy listeners mon-fri\n",
    "df_an_pd_d = df_an_pd.groupby(['day_of_week'],as_index=False).size().reset_index(name='Totals')\n",
    "\n",
    "df_an_pd_d['Weekday'] = np.select(\n",
    "    [\n",
    "        df_an_pd_d['day_of_week'] == 1, \n",
    "        df_an_pd_d['day_of_week'] == 2,\n",
    "        df_an_pd_d['day_of_week'] == 3,\n",
    "        df_an_pd_d['day_of_week'] == 4,\n",
    "        df_an_pd_d['day_of_week'] == 5,\n",
    "        df_an_pd_d['day_of_week'] == 6,\n",
    "        df_an_pd_d['day_of_week'] == 7,\n",
    "    ], \n",
    "    [\n",
    "        'Sunday', \n",
    "        'Monday', \n",
    "        'Tuesday',\n",
    "        'Wednesday',\n",
    "        'Thursday',\n",
    "        'Friday',\n",
    "        'Saturday',\n",
    "    ], \n",
    "    default='Unknown'\n",
    ")\n",
    "\n",
    "df_an_pd_d.groupby('Weekday')['Totals'].sum().sort_values(ascending=False).plot(kind='bar',figsize=(14,7));"
   ]
  },
  {
   "cell_type": "code",
   "execution_count": 14,
   "metadata": {},
   "outputs": [
    {
     "data": {
      "image/png": "[encoded data removed]",
      "text/plain": [
       "<matplotlib.figure.Figure at 0x7f3c07541208>"
      ]
     },
     "metadata": {
      "needs_background": "light"
     },
     "output_type": "display_data"
    }
   ],
   "source": [
    "#Totals by day of month\n",
    "df_an_pd_dow = df_an_pd.groupby(['day_of_month'],as_index=False).size().reset_index(name='Totals')\n",
    "df_an_pd_dow.groupby('day_of_month')['Totals'].sum().sort_values(ascending=False).plot(kind='bar',figsize=(17,12), color=['blue']);"
   ]
  },
  {
   "cell_type": "markdown",
   "metadata": {},
   "source": [
    "# Exploratory Data Analysis\n",
    "When you're working with the full dataset, perform EDA by loading a small subset of the data and doing basic manipulations within Spark. In this workspace, you are already provided a small subset of data you can explore."
   ]
  },
  {
   "cell_type": "markdown",
   "metadata": {},
   "source": [
    "### Define Churn\n",
    "Once you've done some preliminary analysis, create a column `Churn` to use as the label for your model. I suggest using the `Cancellation Confirmation` events to define your churn, which happen for both paid and free users. As a bonus task, you can also look into the `Downgrade` events."
   ]
  },
  {
   "cell_type": "code",
   "execution_count": 16,
   "metadata": {},
   "outputs": [
    {
     "data": {
      "text/plain": [
       "[Row(page='Cancel'),\n",
       " Row(page='Submit Downgrade'),\n",
       " Row(page='Thumbs Down'),\n",
       " Row(page='Home'),\n",
       " Row(page='Downgrade'),\n",
       " Row(page='Roll Advert'),\n",
       " Row(page='Logout'),\n",
       " Row(page='Save Settings'),\n",
       " Row(page='Cancellation Confirmation'),\n",
       " Row(page='About'),\n",
       " Row(page='Submit Registration'),\n",
       " Row(page='Settings'),\n",
       " Row(page='Login'),\n",
       " Row(page='Register'),\n",
       " Row(page='Add to Playlist'),\n",
       " Row(page='Add Friend'),\n",
       " Row(page='NextSong'),\n",
       " Row(page='Thumbs Up'),\n",
       " Row(page='Help'),\n",
       " Row(page='Upgrade'),\n",
       " Row(page='Error'),\n",
       " Row(page='Submit Upgrade')]"
      ]
     },
     "execution_count": 16,
     "metadata": {},
     "output_type": "execute_result"
    }
   ],
   "source": [
    "df2.select(\"page\").distinct().collect()"
   ]
  },
  {
   "cell_type": "code",
   "execution_count": 64,
   "metadata": {},
   "outputs": [
    {
     "data": {
      "text/plain": [
       "['userid',\n",
       " 'gender',\n",
       " 'level',\n",
       " 'page',\n",
       " 'location',\n",
       " 'length',\n",
       " 'status',\n",
       " 'ts',\n",
       " 'datetime',\n",
       " 'date',\n",
       " 'day_of_week',\n",
       " 'hour',\n",
       " 'day_of_month',\n",
       " 'State']"
      ]
     },
     "execution_count": 64,
     "metadata": {},
     "output_type": "execute_result"
    }
   ],
   "source": [
    "df2.columns"
   ]
  },
  {
   "cell_type": "code",
   "execution_count": 65,
   "metadata": {},
   "outputs": [
    {
     "name": "stdout",
     "output_type": "stream",
     "text": [
      "root\n",
      " |-- userid: string (nullable = true)\n",
      " |-- gender: string (nullable = true)\n",
      " |-- level: string (nullable = true)\n",
      " |-- page: string (nullable = true)\n",
      " |-- location: string (nullable = true)\n",
      " |-- length: double (nullable = true)\n",
      " |-- status: long (nullable = true)\n",
      " |-- ts: long (nullable = true)\n",
      " |-- datetime: string (nullable = true)\n",
      " |-- date: date (nullable = true)\n",
      " |-- day_of_week: integer (nullable = true)\n",
      " |-- hour: integer (nullable = true)\n",
      " |-- day_of_month: integer (nullable = true)\n",
      " |-- State: string (nullable = true)\n",
      "\n"
     ]
    }
   ],
   "source": [
    "df2.printSchema()"
   ]
  },
  {
   "cell_type": "code",
   "execution_count": 7,
   "metadata": {},
   "outputs": [],
   "source": [
    "#udf, label for churn and crate new col for page val cxl conf\n",
    "churn_y_n = udf(lambda x : 1 if x=='Cancellation Confirmation' else 0, IntegerType())"
   ]
  },
  {
   "cell_type": "code",
   "execution_count": 8,
   "metadata": {},
   "outputs": [],
   "source": [
    "df2 = df2.withColumn('Churn_Label', churn_y_n('page'))"
   ]
  },
  {
   "cell_type": "code",
   "execution_count": 30,
   "metadata": {},
   "outputs": [
    {
     "name": "stdout",
     "output_type": "stream",
     "text": [
      "+------+------+-----+--------------------+--------------------+------+------+-------------+---------+-------------------+----------+-----------+----+------------+-----+-----------+\n",
      "|userid|gender|level|                page|            location|length|status|           ts|sessionId|           datetime|      date|day_of_week|hour|day_of_month|State|Churn_Label|\n",
      "+------+------+-----+--------------------+--------------------+------+------+-------------+---------+-------------------+----------+-----------+----+------------+-----+-----------+\n",
      "|    18|     M| paid|Cancellation Conf...|  Kansas City, MO-KS|  null|   200|1538943990000|      514|2018-10-07 20:26:30|2018-10-07|          1|  20|           7|   KS|          1|\n",
      "|    32|     M| paid|Cancellation Conf...|Phoenix-Mesa-Scot...|  null|   200|1539033046000|      540|2018-10-08 21:10:46|2018-10-08|          2|  21|           8|   AZ|          1|\n",
      "+------+------+-----+--------------------+--------------------+------+------+-------------+---------+-------------------+----------+-----------+----+------------+-----+-----------+\n",
      "only showing top 2 rows\n",
      "\n"
     ]
    }
   ],
   "source": [
    "df2.filter(df2.Churn_Label == 1).show(n=2)"
   ]
  },
  {
   "cell_type": "markdown",
   "metadata": {},
   "source": [
    "### Explore Data\n",
    "Once you've defined churn, perform some exploratory data analysis to observe the behavior for users who stayed vs users who churned. You can start by exploring aggregates on these two groups of users, observing how much of a specific action they experienced per a certain time unit or number of songs played."
   ]
  },
  {
   "cell_type": "code",
   "execution_count": 10,
   "metadata": {},
   "outputs": [],
   "source": [
    "#spark df to pandas df for charts\n",
    "df_an_pd_ch = df2.toPandas()"
   ]
  },
  {
   "cell_type": "code",
   "execution_count": 66,
   "metadata": {},
   "outputs": [
    {
     "name": "stdout",
     "output_type": "stream",
     "text": [
      "+-----------+------+\n",
      "|Churn_Label|Totals|\n",
      "+-----------+------+\n",
      "|          1|    52|\n",
      "|          0|   226|\n",
      "+-----------+------+\n",
      "\n"
     ]
    }
   ],
   "source": [
    "#Total Churn vs did not churn; there is roughly a 20% churn rate among distinct users\n",
    "df2.groupBy(\"Churn_Label\").agg(countDistinct(df2.userid).alias(\"Totals\")).show()"
   ]
  },
  {
   "cell_type": "code",
   "execution_count": 69,
   "metadata": {},
   "outputs": [
    {
     "name": "stdout",
     "output_type": "stream",
     "text": [
      "+-----------+------+------+\n",
      "|Churn_Label|gender|Totals|\n",
      "+-----------+------+------+\n",
      "|          0|     M|   121|\n",
      "|          0|     F|   104|\n",
      "|          1|     M|    32|\n",
      "|          1|     F|    20|\n",
      "|          0|  null|     1|\n",
      "+-----------+------+------+\n",
      "\n"
     ]
    }
   ],
   "source": [
    "#total churn vs did not churn by gender; even breakout\n",
    "df2.groupBy(\"Churn_Label\",\"gender\").agg(countDistinct(df2.userid).alias(\"Totals\")).sort(col(\"Totals\").desc()).show()"
   ]
  },
  {
   "cell_type": "code",
   "execution_count": 70,
   "metadata": {},
   "outputs": [
    {
     "name": "stdout",
     "output_type": "stream",
     "text": [
      "+-----------+-----+------+\n",
      "|Churn_Label|level|Totals|\n",
      "+-----------+-----+------+\n",
      "|          0| free|   196|\n",
      "|          0| paid|   166|\n",
      "|          1| paid|    31|\n",
      "|          1| free|    21|\n",
      "+-----------+-----+------+\n",
      "\n"
     ]
    }
   ],
   "source": [
    "#total churn vs did not churn by free vs paid accts; pretty even breakdown\n",
    "df2.groupBy(\"Churn_Label\",\"level\").agg(countDistinct(df2.userid).alias(\"Totals\")).sort(col(\"Totals\").desc()).show()"
   ]
  },
  {
   "cell_type": "code",
   "execution_count": 73,
   "metadata": {},
   "outputs": [
    {
     "name": "stdout",
     "output_type": "stream",
     "text": [
      "+-----------+-----+------+\n",
      "|Churn_Label|state|Totals|\n",
      "+-----------+-----+------+\n",
      "|          0|   CA|    33|\n",
      "|          0|   PA|    18|\n",
      "|          0|   TX|    16|\n",
      "|          0|   FL|    14|\n",
      "|          0|   WI|    10|\n",
      "|          0|   IL|     9|\n",
      "|          0|   NC|     9|\n",
      "|          0|   SC|     8|\n",
      "|          0|   AZ|     7|\n",
      "|          0|   MD|     7|\n",
      "|          0|   NH|     7|\n",
      "|          0|   CT|     7|\n",
      "|          1|   CA|     6|\n",
      "|          0|   AL|     6|\n",
      "|          0|   WV|     6|\n",
      "|          0|   IN|     6|\n",
      "|          0|   WA|     6|\n",
      "|          0|   MI|     5|\n",
      "|          0|   NY|     5|\n",
      "|          1|   PA|     5|\n",
      "+-----------+-----+------+\n",
      "only showing top 20 rows\n",
      "\n"
     ]
    }
   ],
   "source": [
    "#total churn vs did not churn by free vs paid accts. Most customers in CA and PA\n",
    "df2.groupBy(\"Churn_Label\",\"state\").agg(countDistinct(df2.userid).alias(\"Totals\")).sort(col(\"Totals\").desc()).show()"
   ]
  },
  {
   "cell_type": "code",
   "execution_count": 74,
   "metadata": {},
   "outputs": [
    {
     "data": {
      "text/plain": [
       "[Row(Churn_Label=0, location='Los Angeles-Long Beach-Anaheim, CA', Totals=16),\n",
       " Row(Churn_Label=0, location='New York-Newark-Jersey City, NY-NJ-PA', Totals=15),\n",
       " Row(Churn_Label=0, location='Dallas-Fort Worth-Arlington, TX', Totals=7),\n",
       " Row(Churn_Label=0, location='Phoenix-Mesa-Scottsdale, AZ', Totals=7),\n",
       " Row(Churn_Label=0, location='St. Louis, MO-IL', Totals=6),\n",
       " Row(Churn_Label=0, location='Charlotte-Concord-Gastonia, NC-SC', Totals=6),\n",
       " Row(Churn_Label=0, location='Chicago-Naperville-Elgin, IL-IN-WI', Totals=6),\n",
       " Row(Churn_Label=0, location='Miami-Fort Lauderdale-West Palm Beach, FL', Totals=5),\n",
       " Row(Churn_Label=0, location='Philadelphia-Camden-Wilmington, PA-NJ-DE-MD', Totals=5),\n",
       " Row(Churn_Label=0, location='Boston-Cambridge-Newton, MA-NH', Totals=5),\n",
       " Row(Churn_Label=1, location='New York-Newark-Jersey City, NY-NJ-PA', Totals=5),\n",
       " Row(Churn_Label=0, location='Atlanta-Sandy Springs-Roswell, GA', Totals=4),\n",
       " Row(Churn_Label=0, location='Houston-The Woodlands-Sugar Land, TX', Totals=4),\n",
       " Row(Churn_Label=0, location='Washington-Arlington-Alexandria, DC-VA-MD-WV', Totals=4),\n",
       " Row(Churn_Label=0, location='San Diego-Carlsbad, CA', Totals=3),\n",
       " Row(Churn_Label=0, location='Las Vegas-Henderson-Paradise, NV', Totals=3),\n",
       " Row(Churn_Label=0, location='New Haven-Milford, CT', Totals=3),\n",
       " Row(Churn_Label=1, location='Los Angeles-Long Beach-Anaheim, CA', Totals=3),\n",
       " Row(Churn_Label=0, location='Seattle-Tacoma-Bellevue, WA', Totals=2),\n",
       " Row(Churn_Label=1, location='Flint, MI', Totals=2),\n",
       " Row(Churn_Label=0, location='San Francisco-Oakland-Hayward, CA', Totals=2),\n",
       " Row(Churn_Label=0, location='Minneapolis-St. Paul-Bloomington, MN-WI', Totals=2),\n",
       " Row(Churn_Label=0, location='Virginia Beach-Norfolk-Newport News, VA-NC', Totals=2),\n",
       " Row(Churn_Label=0, location='Syracuse, NY', Totals=2),\n",
       " Row(Churn_Label=0, location='Spokane-Spokane Valley, WA', Totals=2),\n",
       " Row(Churn_Label=0, location='Indianapolis-Carmel-Anderson, IN', Totals=2),\n",
       " Row(Churn_Label=1, location='Philadelphia-Camden-Wilmington, PA-NJ-DE-MD', Totals=2),\n",
       " Row(Churn_Label=0, location='Denver-Aurora-Lakewood, CO', Totals=2),\n",
       " Row(Churn_Label=0, location='Tampa-St. Petersburg-Clearwater, FL', Totals=2),\n",
       " Row(Churn_Label=0, location='Bridgeport-Stamford-Norwalk, CT', Totals=2),\n",
       " Row(Churn_Label=1, location='Phoenix-Mesa-Scottsdale, AZ', Totals=2),\n",
       " Row(Churn_Label=0, location='Pittsburgh, PA', Totals=2),\n",
       " Row(Churn_Label=0, location='Greenville-Anderson-Mauldin, SC', Totals=2),\n",
       " Row(Churn_Label=0, location='Flint, MI', Totals=2),\n",
       " Row(Churn_Label=0, location='Baltimore-Columbia-Towson, MD', Totals=2),\n",
       " Row(Churn_Label=0, location='Tallahassee, FL', Totals=2),\n",
       " Row(Churn_Label=0, location='Jackson, MS', Totals=2),\n",
       " Row(Churn_Label=0, location='San Antonio-New Braunfels, TX', Totals=2),\n",
       " Row(Churn_Label=1, location='Spokane-Spokane Valley, WA', Totals=2),\n",
       " Row(Churn_Label=0, location='Providence-Warwick, RI-MA', Totals=2),\n",
       " Row(Churn_Label=0, location='London, KY', Totals=2),\n",
       " Row(Churn_Label=0, location='Detroit-Warren-Dearborn, MI', Totals=2),\n",
       " Row(Churn_Label=1, location='Miami-Fort Lauderdale-West Palm Beach, FL', Totals=2),\n",
       " Row(Churn_Label=0, location='Truckee-Grass Valley, CA', Totals=2),\n",
       " Row(Churn_Label=0, location='Portland-Vancouver-Hillsboro, OR-WA', Totals=2),\n",
       " Row(Churn_Label=0, location='Buffalo-Cheektowaga-Niagara Falls, NY', Totals=2),\n",
       " Row(Churn_Label=0, location='Kansas City, MO-KS', Totals=2),\n",
       " Row(Churn_Label=0, location='Columbus, GA-AL', Totals=2),\n",
       " Row(Churn_Label=1, location='Jackson, MS', Totals=2),\n",
       " Row(Churn_Label=0, location='Cincinnati, OH-KY-IN', Totals=2),\n",
       " Row(Churn_Label=0, location='Hartford-West Hartford-East Hartford, CT', Totals=2),\n",
       " Row(Churn_Label=0, location='Sacramento--Roseville--Arden-Arcade, CA', Totals=2),\n",
       " Row(Churn_Label=1, location='Bozeman, MT', Totals=1),\n",
       " Row(Churn_Label=1, location='Albany, OR', Totals=1),\n",
       " Row(Churn_Label=0, location='Morgantown, WV', Totals=1),\n",
       " Row(Churn_Label=0, location='Fairbanks, AK', Totals=1),\n",
       " Row(Churn_Label=0, location='Bozeman, MT', Totals=1),\n",
       " Row(Churn_Label=0, location='Riverside-San Bernardino-Ontario, CA', Totals=1),\n",
       " Row(Churn_Label=0, location='Montgomery, AL', Totals=1),\n",
       " Row(Churn_Label=0, location='Hagerstown-Martinsburg, MD-WV', Totals=1),\n",
       " Row(Churn_Label=1, location='Houston-The Woodlands-Sugar Land, TX', Totals=1),\n",
       " Row(Churn_Label=0, location='Kingsport-Bristol-Bristol, TN-VA', Totals=1),\n",
       " Row(Churn_Label=1, location='Albany-Schenectady-Troy, NY', Totals=1),\n",
       " Row(Churn_Label=1, location='Detroit-Warren-Dearborn, MI', Totals=1),\n",
       " Row(Churn_Label=1, location='Oxnard-Thousand Oaks-Ventura, CA', Totals=1),\n",
       " Row(Churn_Label=0, location='Vineland-Bridgeton, NJ', Totals=1),\n",
       " Row(Churn_Label=0, location='Roanoke, VA', Totals=1),\n",
       " Row(Churn_Label=0, location='Atlantic City-Hammonton, NJ', Totals=1),\n",
       " Row(Churn_Label=0, location='Pontiac, IL', Totals=1),\n",
       " Row(Churn_Label=1, location='Monroe, LA', Totals=1),\n",
       " Row(Churn_Label=0, location='Logan, UT-ID', Totals=1),\n",
       " Row(Churn_Label=0, location='Stockton-Lodi, CA', Totals=1),\n",
       " Row(Churn_Label=1, location='Selma, AL', Totals=1),\n",
       " Row(Churn_Label=1, location='Corpus Christi, TX', Totals=1),\n",
       " Row(Churn_Label=1, location='New Philadelphia-Dover, OH', Totals=1),\n",
       " Row(Churn_Label=0, location='Lexington-Fayette, KY', Totals=1),\n",
       " Row(Churn_Label=0, location='Louisville/Jefferson County, KY-IN', Totals=1),\n",
       " Row(Churn_Label=0, location='Alexandria, LA', Totals=1),\n",
       " Row(Churn_Label=0, location='Orlando-Kissimmee-Sanford, FL', Totals=1),\n",
       " Row(Churn_Label=0, location='Omaha-Council Bluffs, NE-IA', Totals=1),\n",
       " Row(Churn_Label=1, location='Kansas City, MO-KS', Totals=1),\n",
       " Row(Churn_Label=0, location='Oklahoma City, OK', Totals=1),\n",
       " Row(Churn_Label=1, location='Greenville-Anderson-Mauldin, SC', Totals=1),\n",
       " Row(Churn_Label=0, location='Cookeville, TN', Totals=1),\n",
       " Row(Churn_Label=1, location='Dallas-Fort Worth-Arlington, TX', Totals=1),\n",
       " Row(Churn_Label=1, location='Indianapolis-Carmel-Anderson, IN', Totals=1),\n",
       " Row(Churn_Label=0, location='Memphis, TN-MS-AR', Totals=1),\n",
       " Row(Churn_Label=0, location='Manchester-Nashua, NH', Totals=1),\n",
       " Row(Churn_Label=0, location='Birmingham-Hoover, AL', Totals=1),\n",
       " Row(Churn_Label=0, location='Laurel, MS', Totals=1),\n",
       " Row(Churn_Label=0, location='New Philadelphia-Dover, OH', Totals=1),\n",
       " Row(Churn_Label=0, location='Salinas, CA', Totals=1),\n",
       " Row(Churn_Label=1, location='Denver-Aurora-Lakewood, CO', Totals=1),\n",
       " Row(Churn_Label=0, location='Greensboro-High Point, NC', Totals=1),\n",
       " Row(Churn_Label=1, location='London, KY', Totals=1),\n",
       " Row(Churn_Label=1, location='San Diego-Carlsbad, CA', Totals=1),\n",
       " Row(Churn_Label=0, location='Anchorage, AK', Totals=1),\n",
       " Row(Churn_Label=1, location='Cleveland-Elyria, OH', Totals=1),\n",
       " Row(Churn_Label=0, location='Muncie, IN', Totals=1),\n",
       " Row(Churn_Label=1, location='San Francisco-Oakland-Hayward, CA', Totals=1),\n",
       " Row(Churn_Label=0, location='Scranton--Wilkes-Barre--Hazleton, PA', Totals=1),\n",
       " Row(Churn_Label=0, location='Jacksonville, FL', Totals=1),\n",
       " Row(Churn_Label=1, location='Washington-Arlington-Alexandria, DC-VA-MD-WV', Totals=1),\n",
       " Row(Churn_Label=1, location='North Wilkesboro, NC', Totals=1),\n",
       " Row(Churn_Label=1, location='Quincy, IL-MO', Totals=1),\n",
       " Row(Churn_Label=0, location='Boulder, CO', Totals=1),\n",
       " Row(Churn_Label=0, location='Napa, CA', Totals=1),\n",
       " Row(Churn_Label=0, location='Port St. Lucie, FL', Totals=1),\n",
       " Row(Churn_Label=0, location='Albany, OR', Totals=1),\n",
       " Row(Churn_Label=0, location='Quincy, IL-MO', Totals=1),\n",
       " Row(Churn_Label=0, location='Cleveland-Elyria, OH', Totals=1),\n",
       " Row(Churn_Label=0, location='Raleigh, NC', Totals=1),\n",
       " Row(Churn_Label=0, location='Santa Maria-Santa Barbara, CA', Totals=1),\n",
       " Row(Churn_Label=0, location='Oxnard-Thousand Oaks-Ventura, CA', Totals=1),\n",
       " Row(Churn_Label=0, location='Jacksonville, NC', Totals=1),\n",
       " Row(Churn_Label=0, location='Allentown-Bethlehem-Easton, PA-NJ', Totals=1),\n",
       " Row(Churn_Label=1, location='Baltimore-Columbia-Towson, MD', Totals=1),\n",
       " Row(Churn_Label=0, location='Sterling, IL', Totals=1),\n",
       " Row(Churn_Label=0, location='Ionia, MI', Totals=1),\n",
       " Row(Churn_Label=0, location='Kankakee, IL', Totals=1),\n",
       " Row(Churn_Label=0, location='North Wilkesboro, NC', Totals=1),\n",
       " Row(Churn_Label=1, location='St. Louis, MO-IL', Totals=1),\n",
       " Row(Churn_Label=1, location='Birmingham-Hoover, AL', Totals=1),\n",
       " Row(Churn_Label=0, location='Monroe, LA', Totals=1),\n",
       " Row(Churn_Label=1, location='Little Rock-North Little Rock-Conway, AR', Totals=1),\n",
       " Row(Churn_Label=0, location='Gainesville, FL', Totals=1),\n",
       " Row(Churn_Label=0, location='Deltona-Daytona Beach-Ormond Beach, FL', Totals=1),\n",
       " Row(Churn_Label=0, location='Austin-Round Rock, TX', Totals=1),\n",
       " Row(Churn_Label=0, location='Corpus Christi, TX', Totals=1),\n",
       " Row(Churn_Label=0, location='Dubuque, IA', Totals=1),\n",
       " Row(Churn_Label=1, location='Lexington-Fayette, KY', Totals=1),\n",
       " Row(Churn_Label=0, location='Colorado Springs, CO', Totals=1),\n",
       " Row(Churn_Label=0, location='Wilson, NC', Totals=1),\n",
       " Row(Churn_Label=1, location='Virginia Beach-Norfolk-Newport News, VA-NC', Totals=1),\n",
       " Row(Churn_Label=0, location='McAllen-Edinburg-Mission, TX', Totals=1),\n",
       " Row(Churn_Label=0, location='Selma, AL', Totals=1),\n",
       " Row(Churn_Label=0, location='Billings, MT', Totals=1),\n",
       " Row(Churn_Label=0, location='Duluth, MN-WI', Totals=1),\n",
       " Row(Churn_Label=0, location='Danville, VA', Totals=1),\n",
       " Row(Churn_Label=0, location='Dayton, OH', Totals=1),\n",
       " Row(Churn_Label=1, location='Colorado Springs, CO', Totals=1),\n",
       " Row(Churn_Label=0, location='Little Rock-North Little Rock-Conway, AR', Totals=1),\n",
       " Row(Churn_Label=1, location='Orlando-Kissimmee-Sanford, FL', Totals=1),\n",
       " Row(Churn_Label=1, location='Chicago-Naperville-Elgin, IL-IN-WI', Totals=1),\n",
       " Row(Churn_Label=0, location='Winston-Salem, NC', Totals=1),\n",
       " Row(Churn_Label=0, location='Myrtle Beach-Conway-North Myrtle Beach, SC-NC', Totals=1),\n",
       " Row(Churn_Label=0, location='Milwaukee-Waukesha-West Allis, WI', Totals=1),\n",
       " Row(Churn_Label=0, location='Albany-Schenectady-Troy, NY', Totals=1),\n",
       " Row(Churn_Label=0, location='Troy, AL', Totals=1),\n",
       " Row(Churn_Label=0, location='Concord, NH', Totals=1),\n",
       " Row(Churn_Label=0, location='San Jose-Sunnyvale-Santa Clara, CA', Totals=1),\n",
       " Row(Churn_Label=0, location=None, Totals=1),\n",
       " Row(Churn_Label=1, location='Memphis, TN-MS-AR', Totals=1),\n",
       " Row(Churn_Label=0, location='Price, UT', Totals=1),\n",
       " Row(Churn_Label=0, location='Bakersfield, CA', Totals=1)]"
      ]
     },
     "execution_count": 74,
     "metadata": {},
     "output_type": "execute_result"
    }
   ],
   "source": [
    "#total churn vs did not churn by free vs paid accts\n",
    "df2.groupBy(\"Churn_Label\",\"location\").agg(countDistinct(df2.userid).alias(\"Totals\")).sort(col(\"Totals\").desc()).collect()"
   ]
  },
  {
   "cell_type": "code",
   "execution_count": 75,
   "metadata": {},
   "outputs": [
    {
     "data": {
      "text/plain": [
       "(<matplotlib.axes._subplots.AxesSubplot at 0x7f66b8d30978>,\n",
       " count    228108.000000\n",
       " mean        249.117182\n",
       " std          99.235179\n",
       " min           0.783220\n",
       " 25%         199.888530\n",
       " 50%         234.500770\n",
       " 75%         277.158730\n",
       " max        3024.665670\n",
       " Name: length, dtype: float64)"
      ]
     },
     "execution_count": 75,
     "metadata": {},
     "output_type": "execute_result"
    },
    {
     "data": {
      "image/png": "[encoded data removed]",
      "text/plain": [
       "<matplotlib.figure.Figure at 0x7f66b4b5c5f8>"
      ]
     },
     "metadata": {
      "needs_background": "light"
     },
     "output_type": "display_data"
    }
   ],
   "source": [
    "#distribution of length\n",
    "#looks like average length is 249, \n",
    "df_an_pd_len2 = df_an_pd_ch.length.dropna()\n",
    "sns.distplot(df_an_pd_len2), df_an_pd_len2.describe()"
   ]
  },
  {
   "cell_type": "markdown",
   "metadata": {},
   "source": [
    "# Feature Engineering\n",
    "Once you've familiarized yourself with the data, build out the features you find promising to train your model on. To work with the full dataset, you can follow the following steps.\n",
    "- Write a script to extract the necessary features from the smaller subset of data\n",
    "- Ensure that your script is scalable, using the best practices discussed in Lesson 3\n",
    "- Try your script on the full data set, debugging your script if necessary\n",
    "\n",
    "If you are working in the classroom workspace, you can just extract features based on the small subset of data contained here. Be sure to transfer over this work to the larger dataset when you work on your Spark cluster."
   ]
  },
  {
   "cell_type": "code",
   "execution_count": 9,
   "metadata": {},
   "outputs": [],
   "source": [
    "#drop nans for features\n",
    "df3 = df2.na.drop()"
   ]
  },
  {
   "cell_type": "code",
   "execution_count": 10,
   "metadata": {},
   "outputs": [],
   "source": [
    "# for features which exist while customer is not cancelled...identify location, state, percentage of AM/PM use,\n",
    "#Percentage of Weekend/Weekday use (all actions except cancel and cancel conf)\n",
    "df3.createOrReplaceTempView(\"dfx\")\n",
    "\n",
    "df_feat1 = spark.sql('''\n",
    "        select b.userid, \n",
    "        max(b.gender) as gender, max(b.level) as level, max(b.location) as location, \n",
    "        max(b.state) as state, sum(b.AM_Use) as AM_Use, sum(b.PM_Use) as PM_Use,\n",
    "        sum(b.Weekday_Use) as Weekday_Use, sum(b.Weekend_Use) as Weekend_Use from \n",
    "    \n",
    "        \n",
    "        (select userid, gender, level, location, state,\n",
    "        \n",
    "        CASE when hour between 0 and 11 then 1 else 0 end as AM_Use,\n",
    "        CASE when hour between 12 and 23 then 1 else 0 end as PM_Use,\n",
    "        \n",
    "        CASE when day_of_week in (2,3,4,5,6) then 1 else 0 end as Weekday_Use,\n",
    "        CASE when day_of_week in (1,7) then 1 else 0 end as Weekend_Use\n",
    "        \n",
    "        from dfx where page in ('Submit Downgrade', 'Thumbs Down', 'Home', 'Downgrade', 'Roll Advert', 'Logout', \n",
    "        'Save Settings', 'About', 'Submit Registration', 'Settings', 'Login', 'Register', 'Add to Playlist', 'Add Friend', \n",
    "        'NextSong', 'Thumbs Up', 'Help', 'Upgrade', 'Error', 'Submit Upgrade')\n",
    "        \n",
    "        ) b group by userid\n",
    "''')"
   ]
  },
  {
   "cell_type": "code",
   "execution_count": 182,
   "metadata": {},
   "outputs": [
    {
     "name": "stdout",
     "output_type": "stream",
     "text": [
      "+------+------+-----+--------------------+-----+------+------+-----------+-----------+\n",
      "|userid|gender|level|            location|state|AM_Use|PM_Use|Weekday_Use|Weekend_Use|\n",
      "+------+------+-----+--------------------+-----+------+------+-----------+-----------+\n",
      "|100010|     F| free|Bridgeport-Stamfo...|   CT|   119|   156|        231|         44|\n",
      "|200002|     M| paid|Chicago-Napervill...|   WI|    83|   304|        387|          0|\n",
      "|   125|     M| free|  Corpus Christi, TX|   TX|     8|     0|          8|          0|\n",
      "|   124|     F| paid|Vineland-Bridgeto...|   NJ|  1679|  2400|       3581|        498|\n",
      "|    51|     M| paid|Lexington-Fayette...|   KY|  1008|  1103|       1965|        146|\n",
      "|     7|     M| free|Seattle-Tacoma-Be...|   WA|    83|    67|        150|          0|\n",
      "|    15|     M| paid|      Morgantown, WV|   WV|   687|  1227|       1455|        459|\n",
      "|    54|     F| paid|Spokane-Spokane V...|   WA|  1145|  1696|       2263|        578|\n",
      "|   155|     F| paid|Boston-Cambridge-...|   NH|   564|   256|        820|          0|\n",
      "|100014|     M| paid|New York-Newark-J...|   PA|    31|   226|        213|         44|\n",
      "+------+------+-----+--------------------+-----+------+------+-----------+-----------+\n",
      "only showing top 10 rows\n",
      "\n"
     ]
    }
   ],
   "source": [
    "df_feat1.show(n=10)"
   ]
  },
  {
   "cell_type": "code",
   "execution_count": 11,
   "metadata": {},
   "outputs": [],
   "source": [
    "#calculate percentage of use (AM/PM) and Weekday/Weekend from prior feature set, rounded to nearest 10's digit perc\n",
    "#df_feat1.withColumn('Perc_AM', (df_feat1.AM_Use/(df_feat1.AM_Use+df_feat1.PM_Use))*100).show(n=2)\n",
    "df_feat1 = df_feat1.withColumn('Perc_AM',  round(((df_feat1.AM_Use/(df_feat1.AM_Use+df_feat1.PM_Use))*100),-1 ))\n",
    "df_feat1 = df_feat1.withColumn('Perc_PM',  round(((df_feat1.PM_Use/(df_feat1.AM_Use+df_feat1.PM_Use))*100),-1 ))\n",
    "df_feat1 = df_feat1.withColumn('Perc_Wkday',  round(((df_feat1.Weekday_Use/(df_feat1.Weekday_Use+df_feat1.Weekend_Use))*100),-1 ))\n",
    "df_feat1 = df_feat1.withColumn('Perc_Wknd',  round(((df_feat1.Weekend_Use/(df_feat1.Weekday_Use+df_feat1.Weekend_Use))*100),-1 ))"
   ]
  },
  {
   "cell_type": "code",
   "execution_count": 12,
   "metadata": {},
   "outputs": [],
   "source": [
    "df_feat1 = df_feat1.select(\"userid\",\"gender\",\"level\",\"location\",\"state\",\"Perc_AM\",\"Perc_PM\",\"Perc_Wkday\",\"Perc_Wknd\")"
   ]
  },
  {
   "cell_type": "code",
   "execution_count": 16,
   "metadata": {},
   "outputs": [
    {
     "name": "stdout",
     "output_type": "stream",
     "text": [
      "+------+------+-----+--------------------+-----+-------+-------+----------+---------+\n",
      "|userid|gender|level|            location|state|Perc_AM|Perc_PM|Perc_Wkday|Perc_Wknd|\n",
      "+------+------+-----+--------------------+-----+-------+-------+----------+---------+\n",
      "|100010|     F| free|Bridgeport-Stamfo...|   CT|   40.0|   60.0|      80.0|     20.0|\n",
      "|200002|     M| paid|Chicago-Napervill...|   WI|   20.0|   80.0|     100.0|      0.0|\n",
      "+------+------+-----+--------------------+-----+-------+-------+----------+---------+\n",
      "only showing top 2 rows\n",
      "\n"
     ]
    }
   ],
   "source": [
    "df_feat1.show(n=2)"
   ]
  },
  {
   "cell_type": "code",
   "execution_count": 237,
   "metadata": {},
   "outputs": [
    {
     "data": {
      "text/plain": [
       "225"
      ]
     },
     "execution_count": 237,
     "metadata": {},
     "output_type": "execute_result"
    }
   ],
   "source": [
    "df_feat1.count()"
   ]
  },
  {
   "cell_type": "code",
   "execution_count": 243,
   "metadata": {},
   "outputs": [
    {
     "data": {
      "text/plain": [
       "52"
      ]
     },
     "execution_count": 243,
     "metadata": {},
     "output_type": "execute_result"
    }
   ],
   "source": [
    "df2.select('userid').filter(df2.Churn_Label == 1)"
   ]
  },
  {
   "cell_type": "code",
   "execution_count": 13,
   "metadata": {},
   "outputs": [],
   "source": [
    "#join feature data set back to df2 to find churn_label\n",
    "df2_dist_u = df2.select('userid','Churn_Label').withColumnRenamed('userid', 'userid_lab').distinct()"
   ]
  },
  {
   "cell_type": "code",
   "execution_count": 254,
   "metadata": {},
   "outputs": [
    {
     "data": {
      "text/plain": [
       "278"
      ]
     },
     "execution_count": 254,
     "metadata": {},
     "output_type": "execute_result"
    }
   ],
   "source": [
    "df2_dist_u.count()"
   ]
  },
  {
   "cell_type": "code",
   "execution_count": 14,
   "metadata": {},
   "outputs": [],
   "source": [
    "df4 = df2_dist_u.join(df_feat1, (df2_dist_u.userid_lab == df_feat1.userid), how = \"inner\")"
   ]
  },
  {
   "cell_type": "code",
   "execution_count": 257,
   "metadata": {},
   "outputs": [
    {
     "data": {
      "text/plain": [
       "277"
      ]
     },
     "execution_count": 257,
     "metadata": {},
     "output_type": "execute_result"
    }
   ],
   "source": [
    "df4.count()"
   ]
  },
  {
   "cell_type": "code",
   "execution_count": 20,
   "metadata": {},
   "outputs": [
    {
     "name": "stdout",
     "output_type": "stream",
     "text": [
      "+----------+-----------+------+------+-----+--------------------+-----+-------+-------+----------+---------+\n",
      "|userid_lab|Churn_Label|userid|gender|level|            location|state|Perc_AM|Perc_PM|Perc_Wkday|Perc_Wknd|\n",
      "+----------+-----------+------+------+-----+--------------------+-----+-------+-------+----------+---------+\n",
      "|    100010|          0|100010|     F| free|Bridgeport-Stamfo...|   CT|   40.0|   60.0|      80.0|     20.0|\n",
      "|    200002|          0|200002|     M| paid|Chicago-Napervill...|   WI|   20.0|   80.0|     100.0|      0.0|\n",
      "|       125|          1|   125|     M| free|  Corpus Christi, TX|   TX|  100.0|    0.0|     100.0|      0.0|\n",
      "+----------+-----------+------+------+-----+--------------------+-----+-------+-------+----------+---------+\n",
      "only showing top 3 rows\n",
      "\n"
     ]
    }
   ],
   "source": [
    "df4.show(n=3)"
   ]
  },
  {
   "cell_type": "code",
   "execution_count": 261,
   "metadata": {},
   "outputs": [],
   "source": [
    "#gender, level, location, state are catigorical. Must use OHE and string indexer to index and convert to bin format with ohe,  new row\n",
    "#labels\n",
    "\n",
    "#will drop userid_lab and userid"
   ]
  },
  {
   "cell_type": "code",
   "execution_count": 21,
   "metadata": {},
   "outputs": [],
   "source": []
  },
  {
   "cell_type": "code",
   "execution_count": 36,
   "metadata": {},
   "outputs": [
    {
     "name": "stdout",
     "output_type": "stream",
     "text": [
      "+----------+-----------+------+------+-----+--------+-----+-------+-------+----------+---------+\n",
      "|userid_lab|Churn_Label|userid|gender|level|location|state|Perc_AM|Perc_PM|Perc_Wkday|Perc_Wknd|\n",
      "+----------+-----------+------+------+-----+--------+-----+-------+-------+----------+---------+\n",
      "|         0|          0|     0|     0|    0|       0|    0|      0|      0|         0|        0|\n",
      "+----------+-----------+------+------+-----+--------+-----+-------+-------+----------+---------+\n",
      "\n"
     ]
    }
   ],
   "source": [
    "#check for nulls. No need to impute as nulls seem to have existed in page 'cancel'\n",
    "df4.select([count(when(isnull(c), c)).alias(c) for c in df4.columns]).show()"
   ]
  },
  {
   "cell_type": "code",
   "execution_count": 34,
   "metadata": {},
   "outputs": [],
   "source": [
    "#create DF to for stringindexing and one hot encoding\n",
    "#df5_OHE = df5.select('gender','level','location','state')"
   ]
  },
  {
   "cell_type": "code",
   "execution_count": 33,
   "metadata": {},
   "outputs": [],
   "source": [
    "#https://stackoverflow.com/questions/36942233/apply-stringindexer-to-several-columns-in-a-pyspark-dataframe\n",
    "#https://stackoverflow.com/questions/35804755/apply-onehotencoder-for-several-categorical-columns-in-sparkmlib\n",
    "#https://stackoverflow.com/questions/67993139/when-to-use-stringindexer-vs-stringindexeronehotencoder\n",
    "#....tree-based models are sensitive to one-hot encoding and become worse with one-hot encoded vectors.\n",
    "#create index on string value features, keep nulls\n",
    "\n",
    "#categorical_columns= ['gender','level','location','state']\n",
    "\n",
    "# The index of string values multiple columns\n",
    "#indexers = [\n",
    "#    StringIndexer(inputCol=c, outputCol=\"{0}_indexed\".format(c))\n",
    "#    for c in categorical_columns\n",
    "#]\n",
    "\n",
    "# OHE for categorical features\n",
    "#encoders = [OneHotEncoder(dropLast=False,inputCol=indexer.getOutputCol(),\n",
    "#            outputCol=\"{0}_encoded\".format(indexer.getOutputCol())) \n",
    "#    for indexer in indexers\n",
    "#]\n",
    "\n",
    "# Vectorizing encoded values (assembles the cat columns into 1 feature column..not sure I want to use with modeling yet.....)\n",
    "#assembler = VectorAssembler(inputCols=[encoder.getOutputCol() for encoder in encoders],outputCol=\"features\")\n",
    "\n",
    "#pipeline = Pipeline(stages=indexers + encoders+[assembler])\n",
    "#model=pipeline.fit(df5)\n",
    "#transformed = model.transform(df5)\n",
    "\n",
    "\n",
    "#indexers = [StringIndexer(inputCol=column,outputCol=column+\"_index\", handleInvalid='skip' ).fit(df5_OHE) for column in list(set(df5_OHE.columns)) ]\n",
    "\n",
    "#pipeline = Pipeline(stages=indexers)\n",
    "#df5_OHE_fin = pipeline.fit(df5_OHE).transform(df5_OHE)"
   ]
  },
  {
   "cell_type": "code",
   "execution_count": 32,
   "metadata": {},
   "outputs": [],
   "source": [
    "#transformed.collect()"
   ]
  },
  {
   "cell_type": "code",
   "execution_count": 39,
   "metadata": {},
   "outputs": [],
   "source": [
    "#running spark version 2.4.3\n",
    "\n",
    "#https://stackoverflow.com/questions/36112684/handling-null-values-in-spark-stringindexer\n",
    "#1. use string indexer to convert chars to index values\n",
    "#2.     WITH string indexer: Since Spark 2.2 NULL values can be handled with standard handleInvalid Param: (WILL USE skip,\n",
    "#8,346 of ~286K not very meaningful, < 5%)\n",
    "#3. after using string indexer impute using pyspark 'Imputer'...will impute with MODE (most frequent) for these values\n",
    "\n",
    "#https://stackoverflow.com/questions/36942233/apply-stringindexer-to-several-columns-in-a-pyspark-dataframe\n",
    "#https://stackoverflow.com/questions/35804755/apply-onehotencoder-for-several-categorical-columns-in-sparkmlib\n",
    "#indexers = [StringIndexer(inputCol=column, outputCol=column+\"_index\").fit(df) for column in list(set(df.columns)-set(['date'])) ]\n",
    "#pipeline = Pipeline(stages=indexers)\n",
    "#df_r = pipeline.fit(df).transform(df)\n",
    "\n",
    "#inputs = [\"gender\"]\n",
    "#outputs = [\"gender_ohe\"]\n",
    "#stringIndexer = StringIndexer(inputCol=inputs, outputCol=outputs, handleInvalid=\"keep\")\n",
    "#model = stringIndexer.fit(df)\n",
    "#result = model.transform(df)"
   ]
  },
  {
   "cell_type": "code",
   "execution_count": 111,
   "metadata": {},
   "outputs": [],
   "source": [
    "#keep numerics for imputation ofn nulls with mode (gender, userAgent,location,)\n",
    "#df5 = df4.select(\"Churn_Label\",\"userid\",\"auth_index\",\"gender_index\",\"level_index\",\"method_index\",\"page_index\",\"location_index\",\"status\",\"day_of_week\",\"hour\",\"day_of_month\")"
   ]
  },
  {
   "cell_type": "code",
   "execution_count": null,
   "metadata": {},
   "outputs": [],
   "source": [
    "#for new stringindex columns and existing numerics, \n",
    "#FIRST must find a way to convert numerics in string form to num:\n",
    "#use UDF solution from stack overflow, below:\n",
    "#https://stackoverflow.com/questions/42709279/casting-string-to-int-null-issue"
   ]
  },
  {
   "cell_type": "code",
   "execution_count": 75,
   "metadata": {},
   "outputs": [],
   "source": [
    "#https://spark.apache.org/docs/latest/api/python/reference/api/pyspark.ml.feature.Imputer.html\n",
    "#instantiate imputer for gender and location (where null, impute with mode)\n",
    "#imputer = Imputer()\n",
    "#imputer.setInputCols([\"gender_index\", \"location_index\"])\n",
    "#imputer.setOutputCols([\"gender_index_m\",\"location_index_m\"])\n",
    "#imputer.setStrategy(\"median\")\n",
    "#model = imputer.fit(df5)\n",
    "#result = model.transform(df5)"
   ]
  },
  {
   "cell_type": "markdown",
   "metadata": {},
   "source": [
    "# Modeling\n",
    "Split the full dataset into train, test, and validation sets. Test out several of the machine learning methods you learned. Evaluate the accuracy of the various models, tuning parameters as necessary. Determine your winning model based on test accuracy and report results on the validation set. Since the churned users are a fairly small subset, I suggest using F1 score as the metric to optimize."
   ]
  },
  {
   "cell_type": "code",
   "execution_count": 15,
   "metadata": {},
   "outputs": [],
   "source": [
    "# remove userid_lab\n",
    "df5_t_t = df4.select(\"userid\",\"Churn_Label\",\"gender\",\"level\",\"location\",\"state\",\"Perc_AM\",\"Perc_PM\",\"Perc_Wkday\",\"Perc_Wknd\")"
   ]
  },
  {
   "cell_type": "code",
   "execution_count": 16,
   "metadata": {},
   "outputs": [
    {
     "name": "stdout",
     "output_type": "stream",
     "text": [
      "root\n",
      " |-- userid: string (nullable = true)\n",
      " |-- Churn_Label: integer (nullable = true)\n",
      " |-- gender: string (nullable = true)\n",
      " |-- level: string (nullable = true)\n",
      " |-- location: string (nullable = true)\n",
      " |-- state: string (nullable = true)\n",
      " |-- Perc_AM: double (nullable = true)\n",
      " |-- Perc_PM: double (nullable = true)\n",
      " |-- Perc_Wkday: double (nullable = true)\n",
      " |-- Perc_Wknd: double (nullable = true)\n",
      "\n"
     ]
    }
   ],
   "source": [
    "df5_t_t.printSchema()"
   ]
  },
  {
   "cell_type": "code",
   "execution_count": null,
   "metadata": {},
   "outputs": [],
   "source": [
    "#https://towardsdatascience.com/learn-how-to-use-spark-ml-and-spark-streaming-3a731485d052\n",
    "#https://stackoverflow.com/questions/67993139/when-to-use-stringindexer-vs-stringindexeronehotencoder\n",
    "#https://stackoverflow.com/questions/35804755/apply-onehotencoder-for-several-categorical-columns-in-sparkmlib\n",
    "#....tree-based models are sensitive to one-hot encoding and become worse with one-hot encoded vectors.\n",
    "#I will try gradient boosting, logistic_regression, random_forest classification models\n",
    "#instead of creating a fucntion and looping through the models for ease, for now, will write out code line by line "
   ]
  },
  {
   "cell_type": "code",
   "execution_count": 16,
   "metadata": {},
   "outputs": [
    {
     "name": "stdout",
     "output_type": "stream",
     "text": [
      "+------+-----------+------+-----+--------------------+-----+-------+-------+----------+---------+--------------+-------------+----------------+-------------+----------------------+---------------------+------------------------+---------------------+--------------------+--------------------+\n",
      "|userid|Churn_Label|gender|level|            location|state|Perc_AM|Perc_PM|Perc_Wkday|Perc_Wknd|gender_indexed|level_indexed|location_indexed|state_indexed|gender_indexed_encoded|level_indexed_encoded|location_indexed_encoded|state_indexed_encoded|        features_cat|        features_num|\n",
      "+------+-----------+------+-----+--------------------+-----+-------+-------+----------+---------+--------------+-------------+----------------+-------------+----------------------+---------------------+------------------------+---------------------+--------------------+--------------------+\n",
      "|100010|          0|     F| free|Bridgeport-Stamfo...|   CT|   40.0|   60.0|      80.0|     20.0|           1.0|          1.0|            44.0|         14.0|             (1,[],[])|            (1,[],[])|        (113,[44],[1.0])|      (38,[14],[1.0])|(153,[46,129],[1....|[40.0,60.0,80.0,2...|\n",
      "|200002|          0|     M| paid|Chicago-Napervill...|   WI|   20.0|   80.0|     100.0|      0.0|           0.0|          0.0|             6.0|          4.0|         (1,[0],[1.0])|        (1,[0],[1.0])|         (113,[6],[1.0])|       (38,[4],[1.0])|(153,[0,1,8,119],...|[20.0,80.0,100.0,...|\n",
      "|   125|          1|     M| free|  Corpus Christi, TX|   TX|  100.0|    0.0|     100.0|      0.0|           0.0|          1.0|            47.0|          2.0|         (1,[0],[1.0])|            (1,[],[])|        (113,[47],[1.0])|       (38,[2],[1.0])|(153,[0,49,117],[...|[100.0,0.0,100.0,...|\n",
      "|   125|          0|     M| free|  Corpus Christi, TX|   TX|  100.0|    0.0|     100.0|      0.0|           0.0|          1.0|            47.0|          2.0|         (1,[0],[1.0])|            (1,[],[])|        (113,[47],[1.0])|       (38,[2],[1.0])|(153,[0,49,117],[...|[100.0,0.0,100.0,...|\n",
      "|   124|          0|     F| paid|Vineland-Bridgeto...|   NJ|   40.0|   60.0|      90.0|     10.0|           1.0|          0.0|            66.0|         24.0|             (1,[],[])|        (1,[0],[1.0])|        (113,[66],[1.0])|      (38,[24],[1.0])|(153,[1,68,139],[...|[40.0,60.0,90.0,1...|\n",
      "+------+-----------+------+-----+--------------------+-----+-------+-------+----------+---------+--------------+-------------+----------------+-------------+----------------------+---------------------+------------------------+---------------------+--------------------+--------------------+\n",
      "only showing top 5 rows\n",
      "\n"
     ]
    }
   ],
   "source": [
    "# transform data before modeling\n",
    "#https://stackoverflow.com/questions/35804755/apply-onehotencoder-for-several-categorical-columns-in-sparkmlib\n",
    "############################################################################################################\n",
    "############################################################################################################\n",
    "#CATEGORICAL DATA\n",
    "#handling of categorical columns....use stringindexer to convert categories to numeric index; then \n",
    "#OHE so one input doesn't have greater 'value' then another; then put into one vector with vector assembler\n",
    "categorical_columns= ['gender','level','location','state']\n",
    "\n",
    "# stringindexer, loop thhroug all cat columns\n",
    "indexers = [\n",
    "    StringIndexer(inputCol=c, outputCol=\"{0}_indexed\".format(c))\n",
    "    for c in categorical_columns\n",
    "]\n",
    "\n",
    "#OHE, loop thhroug all indexed cat columns\n",
    "encoders = [\n",
    "    OneHotEncoder(\n",
    "        inputCol=indexer.getOutputCol(),\n",
    "        outputCol=\"{0}_encoded\".format(indexer.getOutputCol())) \n",
    "    for indexer in indexers\n",
    "]\n",
    "\n",
    "# Vectorizing encoded values\n",
    "assembler = VectorAssembler(inputCols=[encoder.getOutputCol() for encoder in encoders],outputCol=\"features_cat\")\n",
    "\n",
    "#############################################################################################################\n",
    "#NUMERIC DATA. already in numeric, put into a seperate vector assembler and scale the data \n",
    "#will not use any scaling, for now....\n",
    "numeric_columns= ['Perc_AM','Perc_PM','Perc_Wkday','Perc_Wknd']\n",
    "\n",
    "# stringindexer, loop thhroug all cat columns\n",
    "scalers = [\n",
    "    StringIndexer(inputCol=c, outputCol=\"{0}_indexed\".format(c))\n",
    "    for c in categorical_columns\n",
    "]\n",
    "\n",
    "\n",
    "# Vectorizing encoded values\n",
    "assembler2 = VectorAssembler(\n",
    "    inputCols=numeric_columns,\n",
    "    outputCol=\"features_num\")\n",
    "#############################################################################################################\n",
    "#Fit PIPELINE\n",
    "\n",
    "pipeline = Pipeline(stages=indexers + encoders +[assembler]+[assembler2])\n",
    "model=pipeline.fit(df5_t_t)\n",
    "transformed = model.transform(df5_t_t)\n",
    "transformed.show(5)\n",
    "# # We select the actual label, probability and predictions\n",
    "#trainingPred.select('Churn_Label','probability','prediction').show()"
   ]
  },
  {
   "cell_type": "code",
   "execution_count": 17,
   "metadata": {},
   "outputs": [
    {
     "name": "stdout",
     "output_type": "stream",
     "text": [
      "+-----+--------------------+\n",
      "|label|            features|\n",
      "+-----+--------------------+\n",
      "|    0|(153,[46,129],[1....|\n",
      "|    0|(153,[0,1,8,119],...|\n",
      "+-----+--------------------+\n",
      "only showing top 2 rows\n",
      "\n"
     ]
    }
   ],
   "source": [
    "#test on categorical features\n",
    "new_names = ['label', 'features']\n",
    "transformed_2 = transformed.select('Churn_Label','features_cat').toDF(*new_names)\n",
    "transformed_2.show(n=2)"
   ]
  },
  {
   "cell_type": "code",
   "execution_count": 18,
   "metadata": {},
   "outputs": [],
   "source": [
    "#validation/train split\n",
    "valDF, trainDF = transformed_2.randomSplit([0.3, 0.7])"
   ]
  },
  {
   "cell_type": "code",
   "execution_count": 19,
   "metadata": {},
   "outputs": [],
   "source": [
    "#instantiate logistic regression, random_forest, gradient boosting\n",
    "lr = LogisticRegression(maxIter=10, regParam = 0.0)\n",
    "rf = RandomForestClassifier()\n",
    "gb = GBTClassifier()\n",
    "#use multiclassificationevaluator and binary classification evaluator to score models\n",
    "#https://stackoverflow.com/questions/60772315/how-to-evaluate-a-classifier-with-pyspark-2-4-5\n",
    "#evaluator = MulticlassClassificationEvaluator(labelCol=\"label\", predictionCol=\"prediction\")\n",
    "evaluatorMulti = MulticlassClassificationEvaluator(labelCol=\"label\", predictionCol=\"prediction\")\n",
    "evaluator = BinaryClassificationEvaluator(labelCol=\"label\", rawPredictionCol=\"prediction\", metricName='areaUnderROC')"
   ]
  },
  {
   "cell_type": "code",
   "execution_count": 20,
   "metadata": {},
   "outputs": [],
   "source": [
    "#lrmodel, fit on training, predict/transform on validation data\n",
    "lrmodel = lr.fit(trainDF)\n",
    "lrpredictions  = lrmodel.transform(valDF)"
   ]
  },
  {
   "cell_type": "code",
   "execution_count": 21,
   "metadata": {},
   "outputs": [],
   "source": [
    "#random forest, fit on training, predict/transform on test data\n",
    "rfmodel = rf.fit(trainDF)\n",
    "rfpredictions  = rfmodel.transform(valDF)"
   ]
  },
  {
   "cell_type": "code",
   "execution_count": 22,
   "metadata": {},
   "outputs": [],
   "source": [
    "#gradient boost, fit on training, predict/transform on test data\n",
    "gbmodel = gb.fit(trainDF)\n",
    "gbpredictions = gbmodel.transform(valDF)"
   ]
  },
  {
   "cell_type": "code",
   "execution_count": 29,
   "metadata": {},
   "outputs": [
    {
     "data": {
      "text/plain": [
       "0.8333333333333334"
      ]
     },
     "execution_count": 29,
     "metadata": {},
     "output_type": "execute_result"
    }
   ],
   "source": [
    "#check accuracy of model before predicting (whole/train set only)...will be inflated\n",
    "lrmodel.summary.accuracy"
   ]
  },
  {
   "cell_type": "code",
   "execution_count": 32,
   "metadata": {},
   "outputs": [
    {
     "name": "stdout",
     "output_type": "stream",
     "text": [
      "Accuracy = 0.7326123243844762\n"
     ]
    }
   ],
   "source": [
    "accuracy = evaluator.evaluate(lrpredictions)\n",
    "print(\"Accuracy = %s\" % (accuracy))"
   ]
  },
  {
   "cell_type": "code",
   "execution_count": 34,
   "metadata": {},
   "outputs": [],
   "source": [
    "#for df in [lrpredictions, rfpredictions, gbpredictions]:\n",
    "#    #accuracy = evaluator.evaluate(df)\n",
    "#\n",
    "#    print(\"Accuracy = %s\" % (acc))"
   ]
  },
  {
   "cell_type": "code",
   "execution_count": 52,
   "metadata": {},
   "outputs": [
    {
     "name": "stdout",
     "output_type": "stream",
     "text": [
      "Logistic Regression Accuracy = 0.7894736842105263\n",
      "Logistic Regression F1 = 0.7692240551627826\n",
      "Logistic Regression Weighted Precision = 0.7519886673204751\n",
      "Logistic Regression Weighted Recall = 0.7894736842105263\n",
      "Logistic Regression AUC score = 0.49930069930069926\n",
      "--------------------------------------------------\n",
      "Random Forest Accuracy = 0.8552631578947368\n",
      "Random Forest F1 = 0.7885405001866368\n",
      "Random Forest Weighted Precision = 0.7314750692520776\n",
      "Random Forest Weighted Recall = 0.8552631578947368\n",
      "Random Forest AUC score  = 0.5\n",
      "--------------------------------------------------\n",
      "Gradient Boosting Accuracy = 0.7763157894736842\n",
      "Gradient Boosting F1 = 0.7475633528265108\n",
      "Gradient Boosting Weighted Precision = 0.7208646616541353\n",
      "Gradient Boosting Weighted Recall = 0.7763157894736842\n",
      "Gradient Boosting AUC score  = 0.45384615384615384\n"
     ]
    }
   ],
   "source": [
    "for df in [lrpredictions, rfpredictions, gbpredictions]:\n",
    "    #accuracy = evaluator.evaluate(df)\n",
    "    acc = evaluatorMulti.evaluate(df, {evaluatorMulti.metricName: \"accuracy\"})\n",
    "    f1 = evaluatorMulti.evaluate(df, {evaluatorMulti.metricName: \"f1\"})\n",
    "    weightedPrecision = evaluatorMulti.evaluate(df, {evaluatorMulti.metricName: \"weightedPrecision\"})\n",
    "    weightedRecall = evaluatorMulti.evaluate(df, {evaluatorMulti.metricName: \"weightedRecall\"})\n",
    "    auc = evaluator.evaluate(df)\n",
    "    \n",
    "    if df == lrpredictions:\n",
    "        print(\"Logistic Regression Accuracy = %s\" % (acc))\n",
    "        print(\"Logistic Regression F1 = %s\" % (f1))\n",
    "        print(\"Logistic Regression Weighted Precision = %s\" % (weightedPrecision))\n",
    "        print(\"Logistic Regression Weighted Recall = %s\" % (weightedRecall))\n",
    "        print(\"Logistic Regression AUC score = %s\" % (auc))\n",
    "        print(\"--------------------------------------------------\")\n",
    "    elif df == rfpredictions:\n",
    "        print(\"Random Forest Accuracy = %s\" % (acc))\n",
    "        print(\"Random Forest F1 = %s\" % (f1))\n",
    "        print(\"Random Forest Weighted Precision = %s\" % (weightedPrecision))\n",
    "        print(\"Random Forest Weighted Recall = %s\" % (weightedRecall))\n",
    "        print(\"Random Forest AUC score  = %s\" % (auc))\n",
    "        print(\"--------------------------------------------------\")\n",
    "    elif df == gbpredictions:\n",
    "        print(\"Gradient Boosting Accuracy = %s\" % (acc))\n",
    "        print(\"Gradient Boosting F1 = %s\" % (f1))\n",
    "        print(\"Gradient Boosting Weighted Precision = %s\" % (weightedPrecision))\n",
    "        print(\"Gradient Boosting Weighted Recall = %s\" % (weightedRecall))\n",
    "        print(\"Gradient Boosting AUC score  = %s\" % (auc))"
   ]
  },
  {
   "cell_type": "code",
   "execution_count": 53,
   "metadata": {},
   "outputs": [
    {
     "data": {
      "text/plain": [
       "76"
      ]
     },
     "execution_count": 53,
     "metadata": {},
     "output_type": "execute_result"
    }
   ],
   "source": [
    "#count of records in log reg predction set\n",
    "lrpredictions.count()"
   ]
  },
  {
   "cell_type": "code",
   "execution_count": 54,
   "metadata": {},
   "outputs": [
    {
     "data": {
      "text/plain": [
       "60"
      ]
     },
     "execution_count": 54,
     "metadata": {},
     "output_type": "execute_result"
    }
   ],
   "source": [
    "#how many predictions of 1 (churn) match the labels\n",
    "#60/76 = 78% accurate prediction rate, based on features (gender, free/paid account, city/state, and state)\n",
    "lrpredictions.filter(lrpredictions.label == lrpredictions.prediction).count()"
   ]
  },
  {
   "cell_type": "code",
   "execution_count": 55,
   "metadata": {},
   "outputs": [
    {
     "data": {
      "text/plain": [
       "76"
      ]
     },
     "execution_count": 55,
     "metadata": {},
     "output_type": "execute_result"
    }
   ],
   "source": [
    "rfpredictions.count()"
   ]
  },
  {
   "cell_type": "code",
   "execution_count": 56,
   "metadata": {},
   "outputs": [
    {
     "data": {
      "text/plain": [
       "65"
      ]
     },
     "execution_count": 56,
     "metadata": {},
     "output_type": "execute_result"
    }
   ],
   "source": [
    "#how many predictions of 1 (churn) match the labels\n",
    "#65/76 = 85% accurate prediction rate, based on features (gender, free/paid account, city/state, and state)\n",
    "rfpredictions.filter(rfpredictions.label == rfpredictions.prediction).count()"
   ]
  },
  {
   "cell_type": "code",
   "execution_count": 57,
   "metadata": {},
   "outputs": [
    {
     "data": {
      "text/plain": [
       "76"
      ]
     },
     "execution_count": 57,
     "metadata": {},
     "output_type": "execute_result"
    }
   ],
   "source": [
    "gbpredictions.count()"
   ]
  },
  {
   "cell_type": "code",
   "execution_count": 58,
   "metadata": {},
   "outputs": [
    {
     "data": {
      "text/plain": [
       "59"
      ]
     },
     "execution_count": 58,
     "metadata": {},
     "output_type": "execute_result"
    }
   ],
   "source": [
    "#how many predictions of 1 (churn) match the labels\n",
    "#59/76 = 78% accurate prediction rate, based on features (gender, free/paid account, city/state, and state)\n",
    "gbpredictions.filter(gbpredictions.label == gbpredictions.prediction).count()"
   ]
  },
  {
   "cell_type": "code",
   "execution_count": 23,
   "metadata": {},
   "outputs": [],
   "source": [
    "#https://medium.com/storebrand-tech/random-search-in-spark-ml-5370dc908bd7\n",
    "class RandomGridBuilder: \n",
    "  '''Grid builder for random search. Sets up grids for use in CrossValidator in Spark using values randomly sampled from user-provided distributions.\n",
    "  Distributions should be provided as lambda functions, so that the numbers are generated at call time.\n",
    "  \n",
    "  Parameters:\n",
    "    num_models: Integer (Python) - number of models to generate hyperparameters for\n",
    "    seed: Integer (Python) - seed (optional, default is None)\n",
    "    \n",
    "  Returns:\n",
    "    param_map: list of parameter maps to use in cross validation.\n",
    "    \n",
    "  Example usage:\n",
    "    from pyspark.ml.classification import LogisticRegression\n",
    "    lr = LogisticRegression()\n",
    "    paramGrid = RandomGridBuilder(2)\\\n",
    "               .addDistr(lr.regParam, lambda: np.random.rand()) \\\n",
    "               .addDistr(lr.maxIter, lambda : np.random.randint(10))\\\n",
    "               .build()\n",
    "               \n",
    "    Returns similar output as Spark ML class ParamGridBuilder and can be used in its place. The above paramGrid provides random hyperparameters for 2 models.\n",
    "    '''\n",
    "  \n",
    "  def __init__(self, num_models, seed=None):\n",
    "    self._param_grid = {}\n",
    "    self.num_models = num_models\n",
    "    self.seed = seed\n",
    "    \n",
    "  def addDistr(self, param, distr_generator):\n",
    "    '''Add distribution based on dictionary generated by function passed to addDistr.'''\n",
    "    \n",
    "    if 'pyspark.ml.param.Param' in str(type(param)):\n",
    "      self._param_grid[param] = distr_generator\n",
    "    else:\n",
    "      raise TypeError('param must be an instance of Param')\n",
    "\n",
    "    return self\n",
    "  \n",
    "  def build(self):    \n",
    "    param_map = []\n",
    "    for n in range(self.num_models):\n",
    "      if self.seed:\n",
    "        # Set seeds for both numpy and random in case either is used for the random distribution\n",
    "        np.random.seed(self.seed + n)\n",
    "        random.seed(self.seed + n)\n",
    "      param_dict = {}\n",
    "      for param, distr in self._param_grid.items():\n",
    "        param_dict[param] = distr()\n",
    "      param_map.append(param_dict)\n",
    "    \n",
    "    return param_map"
   ]
  },
  {
   "cell_type": "code",
   "execution_count": 24,
   "metadata": {},
   "outputs": [],
   "source": [
    "#https://medium.com/storebrand-tech/random-search-in-spark-ml-5370dc908bd7\n",
    "#https://towardsdatascience.com/hyperparameter-tuning-the-random-forest-in-python-using-scikit-learn-28d2aa77dd74\n",
    "# Set up cross validation with grid search on random forest (performed best)\n",
    "randomParams = RandomGridBuilder(3)\\\n",
    "                 #Number of features to consider for splits at each node.\n",
    "                 .addDistr(rf.featureSubsetStrategy, lambda : str(np.random.rand()))\\\n",
    "                 #Maximum depth of tree\n",
    "                 .addDistr(rf.maxDepth, lambda : np.random.randint(2, 24))\\\n",
    "                 #Number of trees in the random forest.\n",
    "                 .addDistr(rf.numTrees, lambda : math.floor(500*np.random.power(1)))\\\n",
    "                 #Criterion used for information gain calculation.\n",
    "                 .addDistr(rf.impurity, lambda : np.random.choice(['gini', 'entropy']))\\\n",
    "                 .build()"
   ]
  },
  {
   "cell_type": "code",
   "execution_count": 25,
   "metadata": {},
   "outputs": [],
   "source": [
    "#https://medium.com/storebrand-tech/random-search-in-spark-ml-5370dc908bd7\n",
    "evaluator = BinaryClassificationEvaluator()\n",
    "\n",
    "# Cross validator with random search\n",
    "cv = CrossValidator(\n",
    "                    estimator = rf, \n",
    "                    estimatorParamMaps = randomParams, \n",
    "                    evaluator = evaluator,   \n",
    "                    parallelism = 2\n",
    "                   )\n",
    "\n",
    "cvModel = cv.fit(trainDF)"
   ]
  },
  {
   "cell_type": "code",
   "execution_count": 27,
   "metadata": {},
   "outputs": [],
   "source": [
    "bestmodel = cvModel.bestModel"
   ]
  },
  {
   "cell_type": "code",
   "execution_count": 56,
   "metadata": {},
   "outputs": [
    {
     "name": "stdout",
     "output_type": "stream",
     "text": [
      "Best Param (featureSubsetStrategy):  0.12140309749324907\n",
      "Best Param (maxDepth):  7\n",
      "Best Param (numTrees):  361\n",
      "Best Param (impurity):  gini\n"
     ]
    }
   ],
   "source": [
    "print('Best Param (featureSubsetStrategy): ', bestmodel._java_obj.getFeatureSubsetStrategy())\n",
    "print ('Best Param (maxDepth): ', bestmodel._java_obj.getMaxDepth())\n",
    "print ('Best Param (numTrees): ', bestmodel._java_obj.getNumTrees())\n",
    "print ('Best Param (impurity): ', bestmodel._java_obj.getImpurity())"
   ]
  }
 ],
 "metadata": {
  "kernelspec": {
   "display_name": "Python 3",
   "language": "python",
   "name": "python3"
  },
  "language_info": {
   "codemirror_mode": {
    "name": "ipython",
    "version": 3
   },
   "file_extension": ".py",
   "mimetype": "text/x-python",
   "name": "python",
   "nbconvert_exporter": "python",
   "pygments_lexer": "ipython3",
   "version": "3.6.3"
  }
 },
 "nbformat": 4,
 "nbformat_minor": 2
}
